{
 "cells": [
  {
   "cell_type": "markdown",
   "metadata": {},
   "source": [
    "## POS tagging using modified Viterbi"
   ]
  },
  {
   "cell_type": "markdown",
   "metadata": {},
   "source": [
    "### Data Preparation"
   ]
  },
  {
   "cell_type": "code",
   "execution_count": 9,
   "metadata": {},
   "outputs": [],
   "source": [
    "#Importing libraries\n",
    "import nltk, re, pprint\n",
    "import re\n",
    "import numpy as np\n",
    "import pandas as pd\n",
    "import requests\n",
    "import matplotlib.pyplot as plt\n",
    "import seaborn as sns\n",
    "import pprint, time\n",
    "import random\n",
    "from sklearn.model_selection import train_test_split\n",
    "from nltk.tokenize import word_tokenize"
   ]
  },
  {
   "cell_type": "code",
   "execution_count": 10,
   "metadata": {},
   "outputs": [],
   "source": [
    "# reading the Treebank tagged sentences\n",
    "nltk_data = list(nltk.corpus.treebank.tagged_sents(tagset='universal'))"
   ]
  },
  {
   "cell_type": "code",
   "execution_count": 11,
   "metadata": {},
   "outputs": [
    {
     "name": "stdout",
     "output_type": "stream",
     "text": [
      "[[('Pierre', 'NOUN'), ('Vinken', 'NOUN'), (',', '.'), ('61', 'NUM'), ('years', 'NOUN'), ('old', 'ADJ'), (',', '.'), ('will', 'VERB'), ('join', 'VERB'), ('the', 'DET'), ('board', 'NOUN'), ('as', 'ADP'), ('a', 'DET'), ('nonexecutive', 'ADJ'), ('director', 'NOUN'), ('Nov.', 'NOUN'), ('29', 'NUM'), ('.', '.')], [('Mr.', 'NOUN'), ('Vinken', 'NOUN'), ('is', 'VERB'), ('chairman', 'NOUN'), ('of', 'ADP'), ('Elsevier', 'NOUN'), ('N.V.', 'NOUN'), (',', '.'), ('the', 'DET'), ('Dutch', 'NOUN'), ('publishing', 'VERB'), ('group', 'NOUN'), ('.', '.')], [('Rudolph', 'NOUN'), ('Agnew', 'NOUN'), (',', '.'), ('55', 'NUM'), ('years', 'NOUN'), ('old', 'ADJ'), ('and', 'CONJ'), ('former', 'ADJ'), ('chairman', 'NOUN'), ('of', 'ADP'), ('Consolidated', 'NOUN'), ('Gold', 'NOUN'), ('Fields', 'NOUN'), ('PLC', 'NOUN'), (',', '.'), ('was', 'VERB'), ('named', 'VERB'), ('*-1', 'X'), ('a', 'DET'), ('nonexecutive', 'ADJ'), ('director', 'NOUN'), ('of', 'ADP'), ('this', 'DET'), ('British', 'ADJ'), ('industrial', 'ADJ'), ('conglomerate', 'NOUN'), ('.', '.')], [('A', 'DET'), ('form', 'NOUN'), ('of', 'ADP'), ('asbestos', 'NOUN'), ('once', 'ADV'), ('used', 'VERB'), ('*', 'X'), ('*', 'X'), ('to', 'PRT'), ('make', 'VERB'), ('Kent', 'NOUN'), ('cigarette', 'NOUN'), ('filters', 'NOUN'), ('has', 'VERB'), ('caused', 'VERB'), ('a', 'DET'), ('high', 'ADJ'), ('percentage', 'NOUN'), ('of', 'ADP'), ('cancer', 'NOUN'), ('deaths', 'NOUN'), ('among', 'ADP'), ('a', 'DET'), ('group', 'NOUN'), ('of', 'ADP'), ('workers', 'NOUN'), ('exposed', 'VERB'), ('*', 'X'), ('to', 'PRT'), ('it', 'PRON'), ('more', 'ADV'), ('than', 'ADP'), ('30', 'NUM'), ('years', 'NOUN'), ('ago', 'ADP'), (',', '.'), ('researchers', 'NOUN'), ('reported', 'VERB'), ('0', 'X'), ('*T*-1', 'X'), ('.', '.')], [('The', 'DET'), ('asbestos', 'NOUN'), ('fiber', 'NOUN'), (',', '.'), ('crocidolite', 'NOUN'), (',', '.'), ('is', 'VERB'), ('unusually', 'ADV'), ('resilient', 'ADJ'), ('once', 'ADP'), ('it', 'PRON'), ('enters', 'VERB'), ('the', 'DET'), ('lungs', 'NOUN'), (',', '.'), ('with', 'ADP'), ('even', 'ADV'), ('brief', 'ADJ'), ('exposures', 'NOUN'), ('to', 'PRT'), ('it', 'PRON'), ('causing', 'VERB'), ('symptoms', 'NOUN'), ('that', 'DET'), ('*T*-1', 'X'), ('show', 'VERB'), ('up', 'PRT'), ('decades', 'NOUN'), ('later', 'ADJ'), (',', '.'), ('researchers', 'NOUN'), ('said', 'VERB'), ('0', 'X'), ('*T*-2', 'X'), ('.', '.')], [('Lorillard', 'NOUN'), ('Inc.', 'NOUN'), (',', '.'), ('the', 'DET'), ('unit', 'NOUN'), ('of', 'ADP'), ('New', 'ADJ'), ('York-based', 'ADJ'), ('Loews', 'NOUN'), ('Corp.', 'NOUN'), ('that', 'DET'), ('*T*-2', 'X'), ('makes', 'VERB'), ('Kent', 'NOUN'), ('cigarettes', 'NOUN'), (',', '.'), ('stopped', 'VERB'), ('using', 'VERB'), ('crocidolite', 'NOUN'), ('in', 'ADP'), ('its', 'PRON'), ('Micronite', 'NOUN'), ('cigarette', 'NOUN'), ('filters', 'NOUN'), ('in', 'ADP'), ('1956', 'NUM'), ('.', '.')], [('Although', 'ADP'), ('preliminary', 'ADJ'), ('findings', 'NOUN'), ('were', 'VERB'), ('reported', 'VERB'), ('*-2', 'X'), ('more', 'ADV'), ('than', 'ADP'), ('a', 'DET'), ('year', 'NOUN'), ('ago', 'ADP'), (',', '.'), ('the', 'DET'), ('latest', 'ADJ'), ('results', 'NOUN'), ('appear', 'VERB'), ('in', 'ADP'), ('today', 'NOUN'), (\"'s\", 'PRT'), ('New', 'NOUN'), ('England', 'NOUN'), ('Journal', 'NOUN'), ('of', 'ADP'), ('Medicine', 'NOUN'), (',', '.'), ('a', 'DET'), ('forum', 'NOUN'), ('likely', 'ADJ'), ('*', 'X'), ('to', 'PRT'), ('bring', 'VERB'), ('new', 'ADJ'), ('attention', 'NOUN'), ('to', 'PRT'), ('the', 'DET'), ('problem', 'NOUN'), ('.', '.')], [('A', 'DET'), ('Lorillard', 'NOUN'), ('spokewoman', 'NOUN'), ('said', 'VERB'), (',', '.'), ('``', '.'), ('This', 'DET'), ('is', 'VERB'), ('an', 'DET'), ('old', 'ADJ'), ('story', 'NOUN'), ('.', '.')], [('We', 'PRON'), (\"'re\", 'VERB'), ('talking', 'VERB'), ('about', 'ADP'), ('years', 'NOUN'), ('ago', 'ADP'), ('before', 'ADP'), ('anyone', 'NOUN'), ('heard', 'VERB'), ('of', 'ADP'), ('asbestos', 'NOUN'), ('having', 'VERB'), ('any', 'DET'), ('questionable', 'ADJ'), ('properties', 'NOUN'), ('.', '.')], [('There', 'DET'), ('is', 'VERB'), ('no', 'DET'), ('asbestos', 'NOUN'), ('in', 'ADP'), ('our', 'PRON'), ('products', 'NOUN'), ('now', 'ADV'), ('.', '.'), (\"''\", '.')], [('Neither', 'DET'), ('Lorillard', 'NOUN'), ('nor', 'CONJ'), ('the', 'DET'), ('researchers', 'NOUN'), ('who', 'PRON'), ('*T*-3', 'X'), ('studied', 'VERB'), ('the', 'DET'), ('workers', 'NOUN'), ('were', 'VERB'), ('aware', 'ADJ'), ('of', 'ADP'), ('any', 'DET'), ('research', 'NOUN'), ('on', 'ADP'), ('smokers', 'NOUN'), ('of', 'ADP'), ('the', 'DET'), ('Kent', 'NOUN'), ('cigarettes', 'NOUN'), ('.', '.')], [('``', '.'), ('We', 'PRON'), ('have', 'VERB'), ('no', 'DET'), ('useful', 'ADJ'), ('information', 'NOUN'), ('on', 'ADP'), ('whether', 'ADP'), ('users', 'NOUN'), ('are', 'VERB'), ('at', 'ADP'), ('risk', 'NOUN'), (',', '.'), (\"''\", '.'), ('said', 'VERB'), ('*T*-1', 'X'), ('James', 'NOUN'), ('A.', 'NOUN'), ('Talcott', 'NOUN'), ('of', 'ADP'), ('Boston', 'NOUN'), (\"'s\", 'PRT'), ('Dana-Farber', 'NOUN'), ('Cancer', 'NOUN'), ('Institute', 'NOUN'), ('.', '.')], [('Dr.', 'NOUN'), ('Talcott', 'NOUN'), ('led', 'VERB'), ('a', 'DET'), ('team', 'NOUN'), ('of', 'ADP'), ('researchers', 'NOUN'), ('from', 'ADP'), ('the', 'DET'), ('National', 'NOUN'), ('Cancer', 'NOUN'), ('Institute', 'NOUN'), ('and', 'CONJ'), ('the', 'DET'), ('medical', 'ADJ'), ('schools', 'NOUN'), ('of', 'ADP'), ('Harvard', 'NOUN'), ('University', 'NOUN'), ('and', 'CONJ'), ('Boston', 'NOUN'), ('University', 'NOUN'), ('.', '.')], [('The', 'DET'), ('Lorillard', 'NOUN'), ('spokeswoman', 'NOUN'), ('said', 'VERB'), ('0', 'X'), ('asbestos', 'NOUN'), ('was', 'VERB'), ('used', 'VERB'), ('*-1', 'X'), ('in', 'ADP'), ('``', '.'), ('very', 'ADV'), ('modest', 'ADJ'), ('amounts', 'NOUN'), (\"''\", '.'), ('in', 'ADP'), ('*', 'X'), ('making', 'VERB'), ('paper', 'NOUN'), ('for', 'ADP'), ('the', 'DET'), ('filters', 'NOUN'), ('in', 'ADP'), ('the', 'DET'), ('early', 'ADJ'), ('1950s', 'NUM'), ('and', 'CONJ'), ('replaced', 'VERB'), ('*-1', 'X'), ('with', 'ADP'), ('a', 'DET'), ('different', 'ADJ'), ('type', 'NOUN'), ('of', 'ADP'), ('filter', 'NOUN'), ('in', 'ADP'), ('1956', 'NUM'), ('.', '.')], [('From', 'ADP'), ('1953', 'NUM'), ('to', 'PRT'), ('1955', 'NUM'), (',', '.'), ('9.8', 'NUM'), ('billion', 'NUM'), ('Kent', 'NOUN'), ('cigarettes', 'NOUN'), ('with', 'ADP'), ('the', 'DET'), ('filters', 'NOUN'), ('were', 'VERB'), ('sold', 'VERB'), ('*-3', 'X'), (',', '.'), ('the', 'DET'), ('company', 'NOUN'), ('said', 'VERB'), ('0', 'X'), ('*T*-1', 'X'), ('.', '.')], [('Among', 'ADP'), ('33', 'NUM'), ('men', 'NOUN'), ('who', 'PRON'), ('*T*-4', 'X'), ('worked', 'VERB'), ('closely', 'ADV'), ('with', 'ADP'), ('the', 'DET'), ('substance', 'NOUN'), (',', '.'), ('28', 'NUM'), ('*ICH*-1', 'X'), ('have', 'VERB'), ('died', 'VERB'), ('--', '.'), ('more', 'ADJ'), ('than', 'ADP'), ('three', 'NUM'), ('times', 'NOUN'), ('the', 'DET'), ('expected', 'VERB'), ('number', 'NOUN'), ('.', '.')], [('Four', 'NUM'), ('of', 'ADP'), ('the', 'DET'), ('five', 'NUM'), ('surviving', 'VERB'), ('workers', 'NOUN'), ('have', 'VERB'), ('asbestos-related', 'ADJ'), ('diseases', 'NOUN'), (',', '.'), ('including', 'VERB'), ('three', 'NUM'), ('with', 'ADP'), ('recently', 'ADV'), ('diagnosed', 'VERB'), ('cancer', 'NOUN'), ('.', '.')], [('The', 'DET'), ('total', 'NOUN'), ('of', 'ADP'), ('18', 'NUM'), ('deaths', 'NOUN'), ('from', 'ADP'), ('malignant', 'ADJ'), ('mesothelioma', 'NOUN'), (',', '.'), ('lung', 'NOUN'), ('cancer', 'NOUN'), ('and', 'CONJ'), ('asbestosis', 'NOUN'), ('was', 'VERB'), ('far', 'ADV'), ('higher', 'ADJ'), ('than', 'ADP'), ('*', 'X'), ('expected', 'VERB'), ('*?*', 'X'), (',', '.'), ('the', 'DET'), ('researchers', 'NOUN'), ('said', 'VERB'), ('0', 'X'), ('*T*-1', 'X'), ('.', '.')], [('``', '.'), ('The', 'DET'), ('morbidity', 'NOUN'), ('rate', 'NOUN'), ('is', 'VERB'), ('a', 'DET'), ('striking', 'ADJ'), ('finding', 'NOUN'), ('among', 'ADP'), ('those', 'DET'), ('of', 'ADP'), ('us', 'PRON'), ('who', 'PRON'), ('*T*-5', 'X'), ('study', 'VERB'), ('asbestos-related', 'ADJ'), ('diseases', 'NOUN'), (',', '.'), (\"''\", '.'), ('said', 'VERB'), ('*T*-1', 'X'), ('Dr.', 'NOUN'), ('Talcott', 'NOUN'), ('.', '.')], [('The', 'DET'), ('percentage', 'NOUN'), ('of', 'ADP'), ('lung', 'NOUN'), ('cancer', 'NOUN'), ('deaths', 'NOUN'), ('among', 'ADP'), ('the', 'DET'), ('workers', 'NOUN'), ('at', 'ADP'), ('the', 'DET'), ('West', 'NOUN'), ('Groton', 'NOUN'), (',', '.'), ('Mass.', 'NOUN'), (',', '.'), ('paper', 'NOUN'), ('factory', 'NOUN'), ('appears', 'VERB'), ('*-1', 'X'), ('to', 'PRT'), ('be', 'VERB'), ('the', 'DET'), ('highest', 'ADJ'), ('for', 'ADP'), ('any', 'DET'), ('asbestos', 'NOUN'), ('workers', 'NOUN'), ('studied', 'VERB'), ('*', 'X'), ('in', 'ADP'), ('Western', 'ADJ'), ('industrialized', 'VERB'), ('countries', 'NOUN'), (',', '.'), ('he', 'PRON'), ('said', 'VERB'), ('0', 'X'), ('*T*-2', 'X'), ('.', '.')], [('The', 'DET'), ('plant', 'NOUN'), (',', '.'), ('which', 'DET'), ('*T*-1', 'X'), ('is', 'VERB'), ('owned', 'VERB'), ('*-4', 'X'), ('by', 'ADP'), ('Hollingsworth', 'NOUN'), ('&', 'CONJ'), ('Vose', 'NOUN'), ('Co.', 'NOUN'), (',', '.'), ('was', 'VERB'), ('under', 'ADP'), ('contract', 'NOUN'), ('*ICH*-2', 'X'), ('with', 'ADP'), ('Lorillard', 'NOUN'), ('*', 'X'), ('to', 'PRT'), ('make', 'VERB'), ('the', 'DET'), ('cigarette', 'NOUN'), ('filters', 'NOUN'), ('.', '.')], [('The', 'DET'), ('finding', 'NOUN'), ('probably', 'ADV'), ('will', 'VERB'), ('support', 'VERB'), ('those', 'DET'), ('who', 'PRON'), ('*T*-6', 'X'), ('argue', 'VERB'), ('that', 'ADP'), ('the', 'DET'), ('U.S.', 'NOUN'), ('should', 'VERB'), ('regulate', 'VERB'), ('the', 'DET'), ('class', 'NOUN'), ('of', 'ADP'), ('asbestos', 'NOUN'), ('including', 'VERB'), ('crocidolite', 'NOUN'), ('more', 'ADV'), ('stringently', 'ADV'), ('than', 'ADP'), ('the', 'DET'), ('common', 'ADJ'), ('kind', 'NOUN'), ('of', 'ADP'), ('asbestos', 'NOUN'), (',', '.'), ('chrysotile', 'NOUN'), (',', '.'), ('found', 'VERB'), ('*', 'X'), ('in', 'ADP'), ('most', 'ADJ'), ('schools', 'NOUN'), ('and', 'CONJ'), ('other', 'ADJ'), ('buildings', 'NOUN'), (',', '.'), ('Dr.', 'NOUN'), ('Talcott', 'NOUN'), ('said', 'VERB'), ('0', 'X'), ('*T*-1', 'X'), ('.', '.')], [('The', 'DET'), ('U.S.', 'NOUN'), ('is', 'VERB'), ('one', 'NUM'), ('of', 'ADP'), ('the', 'DET'), ('few', 'ADJ'), ('industrialized', 'VERB'), ('nations', 'NOUN'), ('that', 'DET'), ('*T*-7', 'X'), ('does', 'VERB'), (\"n't\", 'ADV'), ('have', 'VERB'), ('a', 'DET'), ('higher', 'ADJ'), ('standard', 'NOUN'), ('of', 'ADP'), ('regulation', 'NOUN'), ('for', 'ADP'), ('the', 'DET'), ('smooth', 'ADJ'), (',', '.'), ('needle-like', 'ADJ'), ('fibers', 'NOUN'), ('such', 'ADJ'), ('as', 'ADP'), ('crocidolite', 'NOUN'), ('that', 'DET'), ('*T*-1', 'X'), ('are', 'VERB'), ('classified', 'VERB'), ('*-5', 'X'), ('as', 'ADP'), ('amphobiles', 'NOUN'), (',', '.'), ('according', 'VERB'), ('to', 'PRT'), ('Brooke', 'NOUN'), ('T.', 'NOUN'), ('Mossman', 'NOUN'), (',', '.'), ('a', 'DET'), ('professor', 'NOUN'), ('of', 'ADP'), ('pathlogy', 'NOUN'), ('at', 'ADP'), ('the', 'DET'), ('University', 'NOUN'), ('of', 'ADP'), ('Vermont', 'NOUN'), ('College', 'NOUN'), ('of', 'ADP'), ('Medicine', 'NOUN'), ('.', '.')], [('More', 'ADV'), ('common', 'ADJ'), ('chrysotile', 'NOUN'), ('fibers', 'NOUN'), ('are', 'VERB'), ('curly', 'ADJ'), ('and', 'CONJ'), ('are', 'VERB'), ('more', 'ADV'), ('easily', 'ADV'), ('rejected', 'VERB'), ('*-1', 'X'), ('by', 'ADP'), ('the', 'DET'), ('body', 'NOUN'), (',', '.'), ('Dr.', 'NOUN'), ('Mossman', 'NOUN'), ('explained', 'VERB'), ('0', 'X'), ('*T*-2', 'X'), ('.', '.')], [('In', 'ADP'), ('July', 'NOUN'), (',', '.'), ('the', 'DET'), ('Environmental', 'NOUN'), ('Protection', 'NOUN'), ('Agency', 'NOUN'), ('imposed', 'VERB'), ('a', 'DET'), ('gradual', 'ADJ'), ('ban', 'NOUN'), ('on', 'ADP'), ('virtually', 'ADV'), ('all', 'DET'), ('uses', 'NOUN'), ('of', 'ADP'), ('asbestos', 'NOUN'), ('.', '.')], [('By', 'ADP'), ('1997', 'NUM'), (',', '.'), ('almost', 'ADV'), ('all', 'DET'), ('remaining', 'VERB'), ('uses', 'NOUN'), ('of', 'ADP'), ('cancer-causing', 'ADJ'), ('asbestos', 'NOUN'), ('will', 'VERB'), ('be', 'VERB'), ('outlawed', 'VERB'), ('*-6', 'X'), ('.', '.')], [('About', 'ADP'), ('160', 'NUM'), ('workers', 'NOUN'), ('at', 'ADP'), ('a', 'DET'), ('factory', 'NOUN'), ('that', 'DET'), ('*T*-8', 'X'), ('made', 'VERB'), ('paper', 'NOUN'), ('for', 'ADP'), ('the', 'DET'), ('Kent', 'NOUN'), ('filters', 'NOUN'), ('were', 'VERB'), ('exposed', 'VERB'), ('*-7', 'X'), ('to', 'PRT'), ('asbestos', 'NOUN'), ('in', 'ADP'), ('the', 'DET'), ('1950s', 'NUM'), ('.', '.')], [('Areas', 'NOUN'), ('of', 'ADP'), ('the', 'DET'), ('factory', 'NOUN'), ('*ICH*-2', 'X'), ('were', 'VERB'), ('particularly', 'ADV'), ('dusty', 'ADJ'), ('where', 'ADV'), ('the', 'DET'), ('crocidolite', 'NOUN'), ('was', 'VERB'), ('used', 'VERB'), ('*-8', 'X'), ('*T*-1', 'X'), ('.', '.')], [('Workers', 'NOUN'), ('dumped', 'VERB'), ('large', 'ADJ'), ('burlap', 'NOUN'), ('sacks', 'NOUN'), ('of', 'ADP'), ('the', 'DET'), ('imported', 'VERB'), ('material', 'NOUN'), ('into', 'ADP'), ('a', 'DET'), ('huge', 'ADJ'), ('bin', 'NOUN'), (',', '.'), ('poured', 'VERB'), ('in', 'PRT'), ('cotton', 'NOUN'), ('and', 'CONJ'), ('acetate', 'NOUN'), ('fibers', 'NOUN'), ('and', 'CONJ'), ('mechanically', 'ADV'), ('mixed', 'VERB'), ('the', 'DET'), ('dry', 'ADJ'), ('fibers', 'NOUN'), ('in', 'ADP'), ('a', 'DET'), ('process', 'NOUN'), ('used', 'VERB'), ('*', 'X'), ('*', 'X'), ('to', 'PRT'), ('make', 'VERB'), ('filters', 'NOUN'), ('.', '.')], [('Workers', 'NOUN'), ('described', 'VERB'), ('``', '.'), ('clouds', 'NOUN'), ('of', 'ADP'), ('blue', 'ADJ'), ('dust', 'NOUN'), (\"''\", '.'), ('that', 'DET'), ('*T*-1', 'X'), ('hung', 'VERB'), ('over', 'ADP'), ('parts', 'NOUN'), ('of', 'ADP'), ('the', 'DET'), ('factory', 'NOUN'), (',', '.'), ('even', 'ADV'), ('though', 'ADP'), ('exhaust', 'NOUN'), ('fans', 'NOUN'), ('ventilated', 'VERB'), ('the', 'DET'), ('area', 'NOUN'), ('.', '.')], [('``', '.'), ('There', 'DET'), (\"'s\", 'VERB'), ('no', 'DET'), ('question', 'NOUN'), ('that', 'ADP'), ('some', 'DET'), ('of', 'ADP'), ('those', 'DET'), ('workers', 'NOUN'), ('and', 'CONJ'), ('managers', 'NOUN'), ('contracted', 'VERB'), ('asbestos-related', 'ADJ'), ('diseases', 'NOUN'), (',', '.'), (\"''\", '.'), ('said', 'VERB'), ('*T*-1', 'X'), ('Darrell', 'NOUN'), ('Phillips', 'NOUN'), (',', '.'), ('vice', 'NOUN'), ('president', 'NOUN'), ('of', 'ADP'), ('human', 'ADJ'), ('resources', 'NOUN'), ('for', 'ADP'), ('Hollingsworth', 'NOUN'), ('&', 'CONJ'), ('Vose', 'NOUN'), ('.', '.')], [('``', '.'), ('But', 'CONJ'), ('you', 'PRON'), ('have', 'VERB'), ('*-1', 'X'), ('to', 'PRT'), ('recognize', 'VERB'), ('that', 'ADP'), ('these', 'DET'), ('events', 'NOUN'), ('took', 'VERB'), ('place', 'NOUN'), ('35', 'NUM'), ('years', 'NOUN'), ('ago', 'ADP'), ('.', '.')], [('It', 'PRON'), ('has', 'VERB'), ('no', 'DET'), ('bearing', 'NOUN'), ('on', 'ADP'), ('our', 'PRON'), ('work', 'NOUN'), ('force', 'NOUN'), ('today', 'NOUN'), ('.', '.')], [('Yields', 'NOUN'), ('on', 'ADP'), ('money-market', 'ADJ'), ('mutual', 'ADJ'), ('funds', 'NOUN'), ('continued', 'VERB'), ('*-1', 'X'), ('to', 'PRT'), ('slide', 'VERB'), (',', '.'), ('amid', 'ADP'), ('signs', 'NOUN'), ('that', 'ADP'), ('portfolio', 'NOUN'), ('managers', 'NOUN'), ('expect', 'VERB'), ('further', 'ADJ'), ('declines', 'NOUN'), ('in', 'ADP'), ('interest', 'NOUN'), ('rates', 'NOUN'), ('.', '.')], [('The', 'DET'), ('average', 'ADJ'), ('seven-day', 'ADJ'), ('compound', 'NOUN'), ('yield', 'NOUN'), ('of', 'ADP'), ('the', 'DET'), ('400', 'NUM'), ('taxable', 'ADJ'), ('funds', 'NOUN'), ('tracked', 'VERB'), ('*', 'X'), ('by', 'ADP'), ('IBC', 'NOUN'), (\"'s\", 'PRT'), ('Money', 'NOUN'), ('Fund', 'NOUN'), ('Report', 'NOUN'), ('eased', 'VERB'), ('a', 'DET'), ('fraction', 'NOUN'), ('of', 'ADP'), ('a', 'DET'), ('percentage', 'NOUN'), ('point', 'NOUN'), ('to', 'PRT'), ('8.45', 'NUM'), ('%', 'NOUN'), ('from', 'ADP'), ('8.47', 'NUM'), ('%', 'NOUN'), ('for', 'ADP'), ('the', 'DET'), ('week', 'NOUN'), ('ended', 'VERB'), ('Tuesday', 'NOUN'), ('.', '.')], [('Compound', 'NOUN'), ('yields', 'NOUN'), ('assume', 'VERB'), ('reinvestment', 'NOUN'), ('of', 'ADP'), ('dividends', 'NOUN'), ('and', 'CONJ'), ('that', 'ADP'), ('the', 'DET'), ('current', 'ADJ'), ('yield', 'NOUN'), ('continues', 'VERB'), ('for', 'ADP'), ('a', 'DET'), ('year', 'NOUN'), ('.', '.')], [('Average', 'ADJ'), ('maturity', 'NOUN'), ('of', 'ADP'), ('the', 'DET'), ('funds', 'NOUN'), (\"'\", 'PRT'), ('investments', 'NOUN'), ('lengthened', 'VERB'), ('by', 'ADP'), ('a', 'DET'), ('day', 'NOUN'), ('to', 'PRT'), ('41', 'NUM'), ('days', 'NOUN'), (',', '.'), ('the', 'DET'), ('longest', 'ADJ'), ('since', 'ADP'), ('early', 'ADJ'), ('August', 'NOUN'), (',', '.'), ('according', 'VERB'), ('to', 'PRT'), ('Donoghue', 'NOUN'), (\"'s\", 'PRT'), ('.', '.')], [('Longer', 'ADJ'), ('maturities', 'NOUN'), ('are', 'VERB'), ('thought', 'VERB'), ('*-1', 'X'), ('to', 'PRT'), ('indicate', 'VERB'), ('declining', 'VERB'), ('interest', 'NOUN'), ('rates', 'NOUN'), ('because', 'ADP'), ('they', 'PRON'), ('permit', 'VERB'), ('portfolio', 'NOUN'), ('managers', 'NOUN'), ('to', 'PRT'), ('retain', 'VERB'), ('relatively', 'ADV'), ('higher', 'ADJ'), ('rates', 'NOUN'), ('for', 'ADP'), ('a', 'DET'), ('longer', 'ADJ'), ('period', 'NOUN'), ('.', '.')], [('Shorter', 'ADJ'), ('maturities', 'NOUN'), ('are', 'VERB'), ('considered', 'VERB'), ('*-9', 'X'), ('a', 'DET'), ('sign', 'NOUN'), ('of', 'ADP'), ('rising', 'VERB'), ('rates', 'NOUN'), ('because', 'ADP'), ('portfolio', 'NOUN'), ('managers', 'NOUN'), ('can', 'VERB'), ('capture', 'VERB'), ('higher', 'ADJ'), ('rates', 'NOUN'), ('sooner', 'ADV'), ('.', '.')], [('The', 'DET'), ('average', 'ADJ'), ('maturity', 'NOUN'), ('for', 'ADP'), ('funds', 'NOUN'), ('open', 'ADJ'), ('only', 'ADV'), ('to', 'PRT'), ('institutions', 'NOUN'), (',', '.'), ('considered', 'VERB'), ('by', 'ADP'), ('some', 'DET'), ('*', 'X'), ('to', 'PRT'), ('be', 'VERB'), ('a', 'DET'), ('stronger', 'ADJ'), ('indicator', 'NOUN'), ('because', 'ADP'), ('those', 'DET'), ('managers', 'NOUN'), ('watch', 'VERB'), ('the', 'DET'), ('market', 'NOUN'), ('closely', 'ADV'), (',', '.'), ('reached', 'VERB'), ('a', 'DET'), ('high', 'ADJ'), ('point', 'NOUN'), ('for', 'ADP'), ('the', 'DET'), ('year', 'NOUN'), ('--', '.'), ('33', 'NUM'), ('days', 'NOUN'), ('.', '.')], [('Nevertheless', 'ADV'), (',', '.'), ('said', 'VERB'), ('*T*-1', 'X'), ('Brenda', 'NOUN'), ('Malizia', 'NOUN'), ('Negus', 'NOUN'), (',', '.'), ('editor', 'NOUN'), ('of', 'ADP'), ('Money', 'NOUN'), ('Fund', 'NOUN'), ('Report', 'NOUN'), (',', '.'), ('yields', 'NOUN'), ('``', '.'), ('may', 'VERB'), ('blip', 'VERB'), ('up', 'PRT'), ('again', 'ADV'), ('before', 'ADP'), ('they', 'PRON'), ('blip', 'VERB'), ('down', 'PRT'), (\"''\", '.'), ('because', 'ADP'), ('of', 'ADP'), ('recent', 'ADJ'), ('rises', 'NOUN'), ('in', 'ADP'), ('short-term', 'ADJ'), ('interest', 'NOUN'), ('rates', 'NOUN'), ('.', '.')], [('The', 'DET'), ('yield', 'NOUN'), ('on', 'ADP'), ('six-month', 'ADJ'), ('Treasury', 'NOUN'), ('bills', 'NOUN'), ('sold', 'VERB'), ('*', 'X'), ('at', 'ADP'), ('Monday', 'NOUN'), (\"'s\", 'PRT'), ('auction', 'NOUN'), (',', '.'), ('for', 'ADP'), ('example', 'NOUN'), (',', '.'), ('rose', 'VERB'), ('to', 'PRT'), ('8.04', 'NUM'), ('%', 'NOUN'), ('from', 'ADP'), ('7.90', 'NUM'), ('%', 'NOUN'), ('.', '.')], [('Despite', 'ADP'), ('recent', 'ADJ'), ('declines', 'NOUN'), ('in', 'ADP'), ('yields', 'NOUN'), (',', '.'), ('investors', 'NOUN'), ('continue', 'VERB'), ('*-1', 'X'), ('to', 'PRT'), ('pour', 'VERB'), ('cash', 'NOUN'), ('into', 'ADP'), ('money', 'NOUN'), ('funds', 'NOUN'), ('.', '.')], [('Assets', 'NOUN'), ('of', 'ADP'), ('the', 'DET'), ('400', 'NUM'), ('taxable', 'ADJ'), ('funds', 'NOUN'), ('grew', 'VERB'), ('by', 'ADP'), ('$', '.'), ('1.5', 'NUM'), ('billion', 'NUM'), ('*U*', 'X'), ('during', 'ADP'), ('the', 'DET'), ('latest', 'ADJ'), ('week', 'NOUN'), (',', '.'), ('to', 'PRT'), ('$', '.'), ('352.7', 'NUM'), ('billion', 'NUM'), ('*U*', 'X'), ('.', '.')], [('Typically', 'ADV'), (',', '.'), ('money-fund', 'NOUN'), ('yields', 'NOUN'), ('beat', 'VERB'), ('comparable', 'ADJ'), ('short-term', 'ADJ'), ('investments', 'NOUN'), ('because', 'ADP'), ('portfolio', 'NOUN'), ('managers', 'NOUN'), ('can', 'VERB'), ('vary', 'VERB'), ('maturities', 'NOUN'), ('and', 'CONJ'), ('go', 'VERB'), ('after', 'ADP'), ('the', 'DET'), ('highest', 'ADJ'), ('rates', 'NOUN'), ('.', '.')], [('The', 'DET'), ('top', 'ADJ'), ('money', 'NOUN'), ('funds', 'NOUN'), ('are', 'VERB'), ('currently', 'ADV'), ('yielding', 'VERB'), ('well', 'ADV'), ('over', 'ADP'), ('9', 'NUM'), ('%', 'NOUN'), ('.', '.')], [('Dreyfus', 'NOUN'), ('World-Wide', 'NOUN'), ('Dollar', 'NOUN'), (',', '.'), ('the', 'DET'), ('top-yielding', 'ADJ'), ('fund', 'NOUN'), (',', '.'), ('had', 'VERB'), ('a', 'DET'), ('seven-day', 'ADJ'), ('compound', 'NOUN'), ('yield', 'NOUN'), ('of', 'ADP'), ('9.37', 'NUM'), ('%', 'NOUN'), ('during', 'ADP'), ('the', 'DET'), ('latest', 'ADJ'), ('week', 'NOUN'), (',', '.'), ('down', 'ADV'), ('from', 'ADP'), ('9.45', 'NUM'), ('%', 'NOUN'), ('a', 'DET'), ('week', 'NOUN'), ('earlier', 'ADJ'), ('.', '.')], [('It', 'PRON'), ('invests', 'VERB'), ('heavily', 'ADV'), ('in', 'ADP'), ('dollar-denominated', 'ADJ'), ('securities', 'NOUN'), ('overseas', 'ADV'), ('and', 'CONJ'), ('is', 'VERB'), ('currently', 'ADV'), ('waiving', 'VERB'), ('management', 'NOUN'), ('fees', 'NOUN'), (',', '.'), ('which', 'DET'), ('*T*-9', 'X'), ('boosts', 'VERB'), ('its', 'PRON'), ('yield', 'NOUN'), ('.', '.')], [('The', 'DET'), ('average', 'ADJ'), ('seven-day', 'ADJ'), ('simple', 'ADJ'), ('yield', 'NOUN'), ('of', 'ADP'), ('the', 'DET'), ('400', 'NUM'), ('funds', 'NOUN'), ('was', 'VERB'), ('8.12', 'NUM'), ('%', 'NOUN'), (',', '.'), ('down', 'ADV'), ('from', 'ADP'), ('8.14', 'NUM'), ('%', 'NOUN'), ('.', '.')], [('The', 'DET'), ('30-day', 'ADJ'), ('simple', 'ADJ'), ('yield', 'NOUN'), ('fell', 'VERB'), ('to', 'PRT'), ('an', 'DET'), ('average', 'ADJ'), ('8.19', 'NUM'), ('%', 'NOUN'), ('from', 'ADP'), ('8.22', 'NUM'), ('%', 'NOUN'), (';', '.'), ('the', 'DET'), ('30-day', 'ADJ'), ('compound', 'NOUN'), ('yield', 'NOUN'), ('slid', 'VERB'), ('to', 'PRT'), ('an', 'DET'), ('average', 'ADJ'), ('8.53', 'NUM'), ('%', 'NOUN'), ('from', 'ADP'), ('8.56', 'NUM'), ('%', 'NOUN'), ('.', '.')]]\n"
     ]
    }
   ],
   "source": [
    "print(nltk_data[0:50])"
   ]
  },
  {
   "cell_type": "code",
   "execution_count": 12,
   "metadata": {},
   "outputs": [
    {
     "name": "stdout",
     "output_type": "stream",
     "text": [
      "3718\n",
      "196\n",
      "[[('``', '.'), ('*', 'X'), ('Having', 'VERB'), ('the', 'DET'), ('dividend', 'NOUN'), ('increases', 'NOUN'), ('is', 'VERB'), ('a', 'DET'), ('supportive', 'ADJ'), ('element', 'NOUN'), ('in', 'ADP'), ('the', 'DET'), ('market', 'NOUN'), ('outlook', 'NOUN'), (',', '.'), ('but', 'CONJ'), ('I', 'PRON'), ('do', 'VERB'), (\"n't\", 'ADV'), ('think', 'VERB'), ('0', 'X'), ('it', 'PRON'), (\"'s\", 'VERB'), ('a', 'DET'), ('main', 'ADJ'), ('consideration', 'NOUN'), (',', '.'), (\"''\", '.'), ('he', 'PRON'), ('says', 'VERB'), ('*T*-1', 'X'), ('.', '.')], [('I', 'PRON'), ('feel', 'VERB'), ('pretty', 'ADV'), ('good', 'ADJ'), ('about', 'ADP'), ('it', 'PRON'), ('.', '.')], [('``', '.'), ('Just', 'ADV'), ('as', 'ADP'), ('the', 'DET'), ('1980s', 'NUM'), ('bull', 'NOUN'), ('market', 'NOUN'), ('transformed', 'VERB'), ('the', 'DET'), ('U.S.', 'NOUN'), ('securities', 'NOUN'), ('business', 'NOUN'), (',', '.'), ('so', 'ADV'), ('too', 'ADV'), ('will', 'VERB'), ('*?*', 'X'), ('the', 'DET'), ('more', 'ADV'), ('difficult', 'ADJ'), ('environment', 'NOUN'), ('of', 'ADP'), ('the', 'DET'), ('1990s', 'NUM'), (',', '.'), (\"''\", '.'), ('says', 'VERB'), ('*T*-1', 'X'), ('Christopher', 'NOUN'), ('T.', 'NOUN'), ('Mahoney', 'NOUN'), (',', '.'), ('a', 'DET'), ('Moody', 'NOUN'), (\"'s\", 'PRT'), ('vice', 'NOUN'), ('president', 'NOUN'), ('.', '.')], [('Skilled', 'ADJ'), ('ringers', 'NOUN'), ('use', 'VERB'), ('their', 'PRON'), ('wrists', 'NOUN'), ('*-1', 'X'), ('to', 'PRT'), ('advance', 'VERB'), ('or', 'CONJ'), ('retard', 'VERB'), ('the', 'DET'), ('next', 'ADJ'), ('swing', 'NOUN'), (',', '.'), ('so', 'ADV'), ('that', 'ADP'), ('one', 'NUM'), ('bell', 'NOUN'), ('can', 'VERB'), ('swap', 'VERB'), ('places', 'NOUN'), ('with', 'ADP'), ('another', 'DET'), ('in', 'ADP'), ('the', 'DET'), ('following', 'ADJ'), ('change', 'NOUN'), ('.', '.')], [('The', 'DET'), ('company', 'NOUN'), ('also', 'ADV'), ('disclosed', 'VERB'), ('that', 'ADP'), ('during', 'ADP'), ('that', 'DET'), ('period', 'NOUN'), ('it', 'PRON'), ('offered', 'VERB'), ('10,000', 'NUM'), ('yen', 'NOUN'), (',', '.'), ('or', 'CONJ'), ('about', 'ADV'), ('$', '.'), ('70', 'NUM'), ('*U*', 'X'), (',', '.'), ('for', 'ADP'), ('another', 'DET'), ('contract', 'NOUN'), ('.', '.')], [('W.R.', 'NOUN'), ('Grace', 'NOUN'), ('holds', 'VERB'), ('three', 'NUM'), ('of', 'ADP'), ('Grace', 'NOUN'), ('Energy', 'NOUN'), (\"'s\", 'PRT'), ('seven', 'NUM'), ('board', 'NOUN'), ('seats', 'NOUN'), ('.', '.')], [('Furukawa', 'NOUN'), ('Co.', 'NOUN'), ('of', 'ADP'), ('Japan', 'NOUN'), ('said', 'VERB'), ('0', 'X'), ('it', 'PRON'), ('will', 'VERB'), ('acquire', 'VERB'), ('two', 'NUM'), ('construction', 'NOUN'), ('machinery', 'NOUN'), ('plants', 'NOUN'), ('and', 'CONJ'), ('a', 'DET'), ('sales', 'NOUN'), ('unit', 'NOUN'), ('in', 'ADP'), ('France', 'NOUN'), ('formerly', 'ADV'), ('belonging', 'VERB'), ('to', 'PRT'), ('Dresser', 'NOUN'), ('Industries', 'NOUN'), ('Inc.', 'NOUN'), ('of', 'ADP'), ('the', 'DET'), ('U.S.', 'NOUN'), ('.', '.')], [('Most', 'ADJ'), ('of', 'ADP'), ('the', 'DET'), ('volume', 'NOUN'), ('came', 'VERB'), ('from', 'ADP'), ('trades', 'NOUN'), ('designed', 'VERB'), ('*', 'X'), ('*', 'X'), ('to', 'PRT'), ('capture', 'VERB'), ('the', 'DET'), ('stock', 'NOUN'), (\"'s\", 'PRT'), ('next', 'ADJ'), ('dividend', 'NOUN'), (';', '.'), ('Texaco', 'NOUN'), ('has', 'VERB'), ('a', 'DET'), ('yield', 'NOUN'), ('of', 'ADP'), ('5.6', 'NUM'), ('%', 'NOUN'), ('and', 'CONJ'), ('goes', 'VERB'), ('ex-dividend', 'ADJ'), ('today', 'NOUN'), ('.', '.')], [('It', 'PRON'), ('made', 'VERB'), ('ample', 'ADJ'), ('use', 'NOUN'), ('of', 'ADP'), ('the', 'DET'), ('modern', 'ADJ'), ('techniques', 'NOUN'), ('of', 'ADP'), ('influence', 'NOUN'), ('peddling', 'NOUN'), (',', '.'), ('*-1', 'X'), ('retaining', 'VERB'), ('politically', 'ADV'), ('connected', 'VERB'), ('``', '.'), ('respectable', 'ADJ'), (\"''\", '.'), ('law', 'NOUN'), ('firms', 'NOUN'), (',', '.'), ('investment', 'NOUN'), ('bankers', 'NOUN'), ('and', 'CONJ'), ('political', 'ADJ'), ('consultants', 'NOUN'), (',', '.'), ('including', 'VERB'), ('Reagan', 'NOUN'), ('confidant', 'NOUN'), ('Lyn', 'NOUN'), ('Nofzinger', 'NOUN'), ('.', '.')], [('Reed', 'NOUN'), ('International', 'NOUN'), (',', '.'), ('a', 'DET'), ('U.K.', 'NOUN'), ('publishing', 'NOUN'), ('group', 'NOUN'), (',', '.'), ('gained', 'VERB'), ('15', 'NUM'), ('to', 'PRT'), ('397', 'NUM'), ('despite', 'ADP'), ('*', 'X'), ('reporting', 'VERB'), ('a', 'DET'), ('3.7', 'NUM'), ('%', 'NOUN'), ('drop', 'NOUN'), ('in', 'ADP'), ('interim', 'ADJ'), ('pretax', 'NOUN'), ('profit', 'NOUN'), ('.', '.')], [('John', 'NOUN'), ('D.', 'NOUN'), ('Carney', 'NOUN'), (',', '.'), ('45', 'NUM'), (',', '.'), ('was', 'VERB'), ('named', 'VERB'), ('*-1', 'X'), ('to', 'PRT'), ('succeed', 'VERB'), ('Mr.', 'NOUN'), ('Hatch', 'NOUN'), ('as', 'ADP'), ('president', 'NOUN'), ('of', 'ADP'), ('Eastern', 'NOUN'), ('Edison', 'NOUN'), ('.', '.')], [('*-2', 'X'), ('Also', 'ADV'), ('in', 'ADP'), ('New', 'NOUN'), ('York', 'NOUN'), (',', '.'), ('Israel', 'NOUN'), ('Silverman', 'NOUN'), (',', '.'), ('an', 'DET'), ('insurance-company', 'NOUN'), ('lawyer', 'NOUN'), (',', '.'), ('comments', 'VERB'), ('that', 'ADP'), ('program', 'NOUN'), ('trading', 'NOUN'), ('``', '.'), ('increases', 'VERB'), ('volatility', 'NOUN'), (',', '.'), ('but', 'CONJ'), ('I', 'PRON'), ('do', 'VERB'), (\"n't\", 'ADV'), ('think', 'VERB'), ('0', 'X'), ('it', 'PRON'), ('should', 'VERB'), ('be', 'VERB'), ('banned', 'VERB'), ('*-1', 'X'), ('.', '.')], [('Last', 'ADJ'), ('year', 'NOUN'), (',', '.'), ('Mitsubishi', 'NOUN'), ('International', 'NOUN'), ('Corp.', 'NOUN'), (',', '.'), ('the', 'DET'), ('New', 'NOUN'), ('York-based', 'NOUN'), ('arm', 'NOUN'), ('of', 'ADP'), ('Mitsubishi', 'NOUN'), ('Corp.', 'NOUN'), (',', '.'), ('bought', 'VERB'), ('controlling', 'VERB'), ('interest', 'NOUN'), ('in', 'ADP'), ('the', 'DET'), ('glass', 'NOUN'), ('company', 'NOUN'), ('in', 'ADP'), ('a', 'DET'), ('joint', 'ADJ'), ('venture', 'NOUN'), ('with', 'ADP'), ('Ronald', 'NOUN'), ('Bodner', 'NOUN'), (',', '.'), ('a', 'DET'), ('glass', 'NOUN'), ('industry', 'NOUN'), ('executive', 'NOUN'), ('and', 'CONJ'), ('Mitsubishi', 'NOUN'), ('consultant', 'NOUN'), ('.', '.')], [('The', 'DET'), ('company', 'NOUN'), ('said', 'VERB'), ('that', 'ADP'), ('because', 'ADP'), ('of', 'ADP'), ('softening', 'VERB'), ('sales', 'NOUN'), ('it', 'PRON'), ('is', 'VERB'), (\"n't\", 'ADV'), ('in', 'ADP'), ('compliance', 'NOUN'), ('with', 'ADP'), ('requirements', 'NOUN'), ('that', 'ADP'), ('it', 'PRON'), ('maintain', 'VERB'), ('$', '.'), ('3', 'NUM'), ('million', 'NUM'), ('*U*', 'X'), ('in', 'ADP'), ('working', 'VERB'), ('capital', 'NOUN'), ('.', '.')], [('Mr.', 'NOUN'), ('Bernstein', 'NOUN'), ('said', 'VERB'), ('0', 'X'), ('he', 'PRON'), ('will', 'VERB'), ('stay', 'VERB'), ('until', 'ADP'), ('Dec.', 'NOUN'), ('31', 'NUM'), ('and', 'CONJ'), ('work', 'VERB'), ('with', 'ADP'), ('his', 'PRON'), ('successor', 'NOUN'), (',', '.'), ('who', 'PRON'), ('*T*-36', 'X'), ('is', 'VERB'), ('*-1', 'X'), ('to', 'PRT'), ('be', 'VERB'), ('named', 'VERB'), ('*-43', 'X'), ('soon', 'ADV'), ('.', '.')], [('*', 'X'), ('Reducing', 'VERB'), ('volatility', 'NOUN'), ('.', '.')], [('He', 'PRON'), ('declined', 'VERB'), ('*-1', 'X'), ('to', 'PRT'), ('discuss', 'VERB'), ('other', 'ADJ'), ('terms', 'NOUN'), ('of', 'ADP'), ('the', 'DET'), ('issue', 'NOUN'), ('.', '.')], [('The', 'DET'), ('fact', 'NOUN'), ('that', 'ADP'), ('a', 'DET'), ('vast', 'ADJ'), ('majority', 'NOUN'), ('of', 'ADP'), ('fundamentalist', 'ADJ'), ('money', 'NOUN'), ('managers', 'NOUN'), ('fail', 'VERB'), ('*-1', 'X'), ('to', 'PRT'), ('beat', 'VERB'), ('the', 'DET'), ('S&P', 'NOUN'), ('500', 'NUM'), ('may', 'VERB'), ('contribute', 'VERB'), ('to', 'PRT'), ('the', 'DET'), ('hysteria', 'NOUN'), ('surrounding', 'VERB'), ('the', 'DET'), ('issue', 'NOUN'), ('.', '.')], [('If', 'ADP'), ('they', 'PRON'), ('test-drive', 'VERB'), ('a', 'DET'), ('Buick', 'NOUN'), (',', '.'), ('they', 'PRON'), ('get', 'VERB'), ('an', 'DET'), ('American', 'NOUN'), ('Express', 'NOUN'), ('calculator', 'NOUN'), ('.', '.')], [('While', 'ADP'), ('Vichy', 'NOUN'), ('collaborated', 'VERB'), ('with', 'ADP'), ('the', 'DET'), ('Germans', 'NOUN'), ('during', 'ADP'), ('World', 'NOUN'), ('War', 'NOUN'), ('II', 'NOUN'), ('in', 'ADP'), ('the', 'DET'), ('deaths', 'NOUN'), ('of', 'ADP'), ('thousands', 'NOUN'), ('of', 'ADP'), ('Resistance', 'NOUN'), ('fighters', 'NOUN'), ('and', 'CONJ'), ('Jews', 'NOUN'), (',', '.'), ('its', 'PRON'), ('officials', 'NOUN'), ('needed', 'VERB'), ('a', 'DET'), ('diversionary', 'ADJ'), ('symbolic', 'ADJ'), ('traitor', 'NOUN'), ('.', '.')], [('Mr.', 'NOUN'), ('Ross', 'NOUN'), ('said', 'VERB'), ('0', 'X'), ('he', 'PRON'), ('met', 'VERB'), ('with', 'ADP'), ('officials', 'NOUN'), ('of', 'ADP'), ('the', 'DET'), ('IRS', 'NOUN'), ('and', 'CONJ'), ('the', 'DET'), ('Justice', 'NOUN'), ('Department', 'NOUN'), (',', '.'), ('which', 'DET'), ('*T*-133', 'X'), ('would', 'VERB'), ('bring', 'VERB'), ('any', 'DET'), ('enforcement', 'NOUN'), ('actions', 'NOUN'), ('against', 'ADP'), ('taxpayers', 'NOUN'), (',', '.'), ('*-1', 'X'), ('to', 'PRT'), ('discuss', 'VERB'), ('the', 'DET'), ('issue', 'NOUN'), ('last', 'ADJ'), ('May', 'NOUN'), ('.', '.')], [('In', 'ADP'), ('lieu', 'NOUN'), ('of', 'ADP'), ('the', 'DET'), ('vacation', 'NOUN'), (',', '.'), ('buyers', 'NOUN'), ('can', 'VERB'), ('choose', 'VERB'), ('among', 'ADP'), ('several', 'ADJ'), ('prizes', 'NOUN'), (',', '.'), ('including', 'VERB'), ('a', 'DET'), ('grandfather', 'NOUN'), ('clock', 'NOUN'), ('or', 'CONJ'), ('a', 'DET'), ('stereo', 'NOUN'), ('videocassette', 'NOUN'), ('recorder', 'NOUN'), ('.', '.')], [('Behind', 'ADP'), ('all', 'DET'), ('the', 'DET'), ('hoopla', 'NOUN'), ('is', 'VERB'), ('*T*-1', 'X'), ('some', 'DET'), ('heavy-duty', 'ADJ'), ('competition', 'NOUN'), ('.', '.')], [('Analysts', 'NOUN'), ('attributed', 'VERB'), ('the', 'DET'), ('increases', 'NOUN'), ('partly', 'ADV'), ('to', 'PRT'), ('the', 'DET'), ('$', '.'), ('4', 'NUM'), ('billion', 'NUM'), ('*U*', 'X'), ('disaster-assistance', 'ADJ'), ('package', 'NOUN'), ('enacted', 'VERB'), ('*', 'X'), ('by', 'ADP'), ('Congress', 'NOUN'), ('.', '.')], [('*', 'X'), ('Getting', 'VERB'), ('a', 'DET'), ('level', 'NOUN'), ('playing', 'NOUN'), ('field', 'NOUN'), ('.', '.')], [('``', '.'), ('We', 'PRON'), ('work', 'VERB'), ('damn', 'ADV'), ('hard', 'ADV'), ('at', 'ADP'), ('what', 'PRON'), ('we', 'PRON'), ('do', 'VERB'), ('*T*-101', 'X'), ('for', 'ADP'), ('damn', 'ADV'), ('little', 'ADJ'), ('pay', 'NOUN'), (',', '.'), ('and', 'CONJ'), ('what', 'PRON'), ('she', 'PRON'), ('did', 'VERB'), ('*T*-1', 'X'), ('cast', 'VERB'), ('unfair', 'ADJ'), ('aspersions', 'NOUN'), ('on', 'ADP'), ('all', 'DET'), ('of', 'ADP'), ('us', 'PRON'), ('.', '.'), (\"''\", '.')], [('Mrs.', 'NOUN'), ('Yeargin', 'NOUN'), ('admits', 'VERB'), ('0', 'X'), ('she', 'PRON'), ('made', 'VERB'), ('a', 'DET'), ('big', 'ADJ'), ('mistake', 'NOUN'), ('but', 'CONJ'), ('insists', 'VERB'), ('0', 'X'), ('her', 'PRON'), ('motives', 'NOUN'), ('were', 'VERB'), ('correct', 'ADJ'), ('.', '.')], [('History', 'NOUN'), (',', '.'), ('after', 'ADP'), ('all', 'DET'), (',', '.'), ('is', 'VERB'), ('not', 'ADV'), ('on', 'ADP'), ('his', 'PRON'), ('side', 'NOUN'), ('.', '.')], [('Ralston', 'NOUN'), ('attributed', 'VERB'), ('its', 'PRON'), ('fourth-quarter', 'NOUN'), ('slump', 'NOUN'), ('partly', 'ADV'), ('to', 'PRT'), ('higher', 'ADJ'), ('costs', 'NOUN'), ('of', 'ADP'), ('ingredients', 'NOUN'), ('in', 'ADP'), ('the', 'DET'), ('pet', 'NOUN'), ('food', 'NOUN'), ('business', 'NOUN'), ('as', 'ADV'), ('well', 'ADV'), ('as', 'ADP'), ('competitive', 'ADJ'), ('pressures', 'NOUN'), (',', '.'), ('which', 'DET'), ('*T*-1', 'X'), ('required', 'VERB'), ('higher', 'ADJ'), ('advertising', 'NOUN'), ('spending', 'NOUN'), ('.', '.')], [('``', '.'), ('It', 'PRON'), (\"'s\", 'VERB'), ('not', 'ADV'), ('a', 'DET'), ('very', 'ADV'), ('meaningful', 'ADJ'), ('indicator', 'NOUN'), ('currently', 'ADV'), ('because', 'ADP'), ('corporations', 'NOUN'), ('are', 'VERB'), ('not', 'ADV'), ('behaving', 'VERB'), ('in', 'ADP'), ('a', 'DET'), ('traditional', 'ADJ'), ('manner', 'NOUN'), (',', '.'), (\"''\", '.'), ('says', 'VERB'), ('*T*-1', 'X'), ('James', 'NOUN'), ('H.', 'NOUN'), ('Coxon', 'NOUN'), (',', '.'), ('head', 'NOUN'), ('of', 'ADP'), ('stock', 'NOUN'), ('investments', 'NOUN'), ('for', 'ADP'), ('Cigna', 'NOUN'), ('Corp.', 'NOUN'), (',', '.'), ('the', 'DET'), ('Philadelphia-based', 'ADJ'), ('insurer', 'NOUN'), ('.', '.')], [('``', '.'), ('*', 'X'), ('Just', 'ADV'), ('to', 'PRT'), ('say', 'VERB'), ('0', 'X'), ('the', 'DET'), ('distribution', 'NOUN'), ('system', 'NOUN'), ('is', 'VERB'), ('wrong', 'ADJ'), ('does', 'VERB'), (\"n't\", 'ADV'), ('mean', 'VERB'), ('anything', 'NOUN'), (',', '.'), (\"''\", '.'), ('says', 'VERB'), ('*T*-1', 'X'), ('a', 'DET'), ('Ministry', 'NOUN'), ('of', 'ADP'), ('International', 'NOUN'), ('Trade', 'NOUN'), ('and', 'CONJ'), ('Industry', 'NOUN'), ('official', 'NOUN'), ('.', '.')], [('Georgia', 'NOUN'), ('Gulf', 'NOUN'), ('stock', 'NOUN'), ('rose', 'VERB'), ('$', '.'), ('1.75', 'NUM'), ('*U*', 'X'), ('a', 'DET'), ('share', 'NOUN'), ('yesterday', 'NOUN'), ('*-1', 'X'), ('to', 'PRT'), ('close', 'VERB'), ('at', 'ADP'), ('$', '.'), ('51.25', 'NUM'), ('*U*', 'X'), ('a', 'DET'), ('share', 'NOUN'), (',', '.'), ('while', 'ADP'), ('NL', 'NOUN'), ('shares', 'NOUN'), ('closed', 'VERB'), ('unchanged', 'ADJ'), ('at', 'ADP'), ('$', '.'), ('22.75', 'NUM'), ('*U*', 'X'), ('and', 'CONJ'), ('Valhi', 'NOUN'), ('rose', 'VERB'), ('62.5', 'NUM'), ('cents', 'NOUN'), ('to', 'PRT'), ('$', '.'), ('15', 'NUM'), ('*U*', 'X'), (',', '.'), ('all', 'DET'), ('in', 'ADP'), ('New', 'NOUN'), ('York', 'NOUN'), ('Stock', 'NOUN'), ('Exchange', 'NOUN'), ('composite', 'ADJ'), ('trading', 'VERB'), ('.', '.')], [('The', 'DET'), ('roofs', 'NOUN'), ('would', 'VERB'), ('be', 'VERB'), ('required', 'VERB'), ('*-1', 'X'), ('to', 'PRT'), ('withstand', 'VERB'), ('a', 'DET'), ('force', 'NOUN'), ('of', 'ADP'), ('1.5', 'NUM'), ('times', 'NOUN'), ('the', 'DET'), ('unloaded', 'ADJ'), ('weight', 'NOUN'), ('of', 'ADP'), ('the', 'DET'), ('vehicle', 'NOUN'), ('.', '.')], [('In', 'ADP'), ('August', 'NOUN'), (',', '.'), ('Temple', 'NOUN'), ('sweetened', 'VERB'), ('the', 'DET'), ('offer', 'NOUN'), ('to', 'PRT'), ('$', '.'), ('63', 'NUM'), ('*U*', 'X'), ('a', 'DET'), ('share', 'NOUN'), (',', '.'), ('or', 'CONJ'), ('$', '.'), ('963', 'NUM'), ('million', 'NUM'), ('*U*', 'X'), ('.', '.')], [('Health', 'NOUN'), ('officials', 'NOUN'), ('plan', 'VERB'), ('*-1', 'X'), ('to', 'PRT'), ('extend', 'VERB'), ('a', 'DET'), ('moratorium', 'NOUN'), ('on', 'ADP'), ('federal', 'ADJ'), ('funding', 'NOUN'), ('of', 'ADP'), ('research', 'NOUN'), ('involving', 'VERB'), ('fetal-tissue', 'NOUN'), ('transplants', 'NOUN'), ('.', '.')], [('I', 'PRON'), ('even', 'ADV'), ('dreamt', 'VERB'), ('about', 'ADP'), ('school', 'NOUN'), ('and', 'CONJ'), ('new', 'ADJ'), ('things', 'NOUN'), ('0', 'X'), ('*', 'X'), ('to', 'PRT'), ('do', 'VERB'), ('*T*-1', 'X'), ('with', 'ADP'), ('my', 'PRON'), ('students', 'NOUN'), ('.', '.'), (\"''\", '.')], [('It', 'PRON'), ('*EXP*-1', 'X'), (\"'s\", 'VERB'), ('interesting', 'ADJ'), ('*', 'X'), ('to', 'PRT'), ('find', 'VERB'), ('that', 'ADP'), ('a', 'DET'), ('lot', 'NOUN'), ('of', 'ADP'), ('the', 'DET'), ('expensive', 'ADJ'), ('wines', 'NOUN'), ('are', 'VERB'), (\"n't\", 'ADV'), ('always', 'ADV'), ('walking', 'VERB'), ('out', 'ADP'), ('the', 'DET'), ('door', 'NOUN'), ('.', '.')], [('The', 'DET'), ('30-year', 'ADJ'), ('non-callable', 'ADJ'), ('issue', 'NOUN'), ('was', 'VERB'), ('priced', 'VERB'), ('*-1', 'X'), ('at', 'ADP'), ('a', 'DET'), ('spread', 'NOUN'), ('of', 'ADP'), ('57', 'NUM'), ('basis', 'NOUN'), ('points', 'NOUN'), ('above', 'ADP'), ('the', 'DET'), ('Treasury', 'NOUN'), (\"'s\", 'PRT'), ('8', 'NUM'), ('1\\\\/8', 'NUM'), ('%', 'NOUN'), ('bellwether', 'NOUN'), ('long', 'ADJ'), ('bond', 'NOUN'), ('.', '.')], [('But', 'CONJ'), ('despite', 'ADP'), ('the', 'DET'), ('sensational', 'ADJ'), ('nature', 'NOUN'), ('of', 'ADP'), ('the', 'DET'), ('revelations', 'NOUN'), ('and', 'CONJ'), ('the', 'DET'), ('breezy', 'ADJ'), (',', '.'), ('easy-to-read', 'ADJ'), ('tabloid', 'ADJ'), ('writing', 'NOUN'), ('style', 'NOUN'), (',', '.'), ('``', '.'), ('Feeding', 'NOUN'), ('Frenzy', 'NOUN'), (\"''\", '.'), ('often', 'ADV'), ('falls', 'VERB'), ('short', 'ADJ'), ('of', 'ADP'), ('gripping', 'ADJ'), ('reading', 'NOUN'), ('.', '.')], [('It', 'PRON'), ('was', 'VERB'), ('later', 'ADJ'), ('applied', 'VERB'), ('to', 'PRT'), ('other', 'ADJ'), ('new-car', 'NOUN'), ('programs', 'NOUN'), (',', '.'), ('including', 'VERB'), ('those', 'DET'), ('that', 'DET'), ('*T*-1', 'X'), ('produced', 'VERB'), ('the', 'DET'), ('Ford', 'NOUN'), ('Thunderbird', 'NOUN'), ('and', 'CONJ'), ('Mercury', 'NOUN'), ('Cougar', 'NOUN'), ('.', '.')]]\n"
     ]
    }
   ],
   "source": [
    "#Splitting data into train set and test set\n",
    "random.seed(1234)\n",
    "train_set, test_set = train_test_split(nltk_data, test_size = 0.05)\n",
    "\n",
    "print(len(train_set))\n",
    "print(len(test_set))\n",
    "print(train_set[0:40])"
   ]
  },
  {
   "cell_type": "code",
   "execution_count": 13,
   "metadata": {},
   "outputs": [
    {
     "data": {
      "text/plain": [
       "95741"
      ]
     },
     "execution_count": 13,
     "metadata": {},
     "output_type": "execute_result"
    }
   ],
   "source": [
    "#tagged words list\n",
    "train_tagged_words = [tup for sent in train_set for tup in sent]\n",
    "len(train_tagged_words)"
   ]
  },
  {
   "cell_type": "code",
   "execution_count": 14,
   "metadata": {},
   "outputs": [
    {
     "data": {
      "text/plain": [
       "['``',\n",
       " '*',\n",
       " 'Having',\n",
       " 'the',\n",
       " 'dividend',\n",
       " 'increases',\n",
       " 'is',\n",
       " 'a',\n",
       " 'supportive',\n",
       " 'element']"
      ]
     },
     "execution_count": 14,
     "metadata": {},
     "output_type": "execute_result"
    }
   ],
   "source": [
    "tokens = [pair[0] for pair in train_tagged_words]\n",
    "tokens[:10]"
   ]
  },
  {
   "cell_type": "code",
   "execution_count": 15,
   "metadata": {},
   "outputs": [
    {
     "name": "stdout",
     "output_type": "stream",
     "text": [
      "12069\n"
     ]
    }
   ],
   "source": [
    "# vocabulary\n",
    "V = set(tokens)\n",
    "print(len(V))"
   ]
  },
  {
   "cell_type": "code",
   "execution_count": 8,
   "metadata": {},
   "outputs": [
    {
     "name": "stdout",
     "output_type": "stream",
     "text": [
      "12\n",
      "{'NOUN', 'NUM', 'PRON', 'VERB', 'X', '.', 'PRT', 'ADP', 'DET', 'ADV', 'CONJ', 'ADJ'}\n"
     ]
    }
   ],
   "source": [
    "# number of tags\n",
    "T = set([pair[1] for pair in train_tagged_words])\n",
    "print(len(T))\n",
    "print(T)"
   ]
  },
  {
   "cell_type": "code",
   "execution_count": null,
   "metadata": {},
   "outputs": [],
   "source": []
  },
  {
   "cell_type": "markdown",
   "metadata": {},
   "source": [
    "### Build the vanilla Viterbi based POS tagger"
   ]
  },
  {
   "cell_type": "code",
   "execution_count": 16,
   "metadata": {},
   "outputs": [],
   "source": [
    "# computing P(w/t) and storing in T x V matrix\n",
    "t = len(T)\n",
    "v = len(V)\n",
    "w_given_t = np.zeros((t, v))"
   ]
  },
  {
   "cell_type": "code",
   "execution_count": 17,
   "metadata": {},
   "outputs": [],
   "source": [
    "# compute word given tag: Emission Probability\n",
    "def word_given_tag(word, tag, train_bag = train_tagged_words):\n",
    "    tag_list = [pair for pair in train_bag if pair[1]==tag]\n",
    "    count_tag = len(tag_list)\n",
    "    w_given_tag_list = [pair[0] for pair in tag_list if pair[0]==word]\n",
    "    count_w_given_tag = len(w_given_tag_list)\n",
    "    \n",
    "    return (count_w_given_tag, count_tag)"
   ]
  },
  {
   "cell_type": "code",
   "execution_count": 18,
   "metadata": {},
   "outputs": [],
   "source": [
    "# compute tag given tag: tag2(t2) given tag1 (t1), i.e. Transition Probability\n",
    "\n",
    "def t2_given_t1(t2, t1, train_bag = train_tagged_words):\n",
    "    tags = [pair[1] for pair in train_bag]\n",
    "    count_t1 = len([t for t in tags if t==t1])\n",
    "    count_t2_t1 = 0\n",
    "    for index in range(len(tags)-1):\n",
    "        if tags[index]==t1 and tags[index+1] == t2:\n",
    "            count_t2_t1 += 1\n",
    "    return (count_t2_t1, count_t1)"
   ]
  },
  {
   "cell_type": "code",
   "execution_count": 19,
   "metadata": {},
   "outputs": [
    {
     "data": {
      "text/plain": [
       "array([[2.63809502e-01, 9.43087041e-03, 4.66081640e-03, 1.46997780e-01,\n",
       "        2.90936902e-02, 2.39667922e-01, 4.40956913e-02, 1.76856130e-01,\n",
       "        1.34362597e-02, 1.69318728e-02, 4.27848361e-02, 1.22346431e-02],\n",
       "       [3.54277283e-01, 1.87020645e-01, 1.47492625e-03, 1.85840707e-02,\n",
       "        2.09439531e-01, 1.14749260e-01, 2.80235987e-02, 3.48082595e-02,\n",
       "        3.83480825e-03, 2.94985250e-03, 1.32743362e-02, 3.15634236e-02],\n",
       "       [2.11887300e-01, 7.33307609e-03, 8.10497906e-03, 4.83983010e-01,\n",
       "        9.22423750e-02, 4.01389413e-02, 1.23504438e-02, 2.12273262e-02,\n",
       "        9.64878406e-03, 3.43496725e-02, 5.01736766e-03, 7.37167150e-02],\n",
       "       [1.09671913e-01, 2.30357554e-02, 3.56782749e-02, 1.70092300e-01,\n",
       "        2.18413100e-01, 3.42821702e-02, 3.09470259e-02, 9.17552188e-02,\n",
       "        1.34569153e-01, 8.11292976e-02, 5.42930281e-03, 6.49965107e-02],\n",
       "       [6.08419366e-02, 2.85941223e-03, 5.49642555e-02, 2.03494832e-01,\n",
       "        7.48212859e-02, 1.63621917e-01, 1.86020657e-01, 1.45830020e-01,\n",
       "        5.36934063e-02, 2.60524228e-02, 1.03256553e-02, 1.74741857e-02],\n",
       "       [2.23443553e-01, 8.16289783e-02, 6.60419837e-02, 8.89269337e-02,\n",
       "        2.71195602e-02, 9.20803696e-02, 2.34255334e-03, 8.96477178e-02,\n",
       "        1.73709348e-01, 5.30678444e-02, 5.81133440e-02, 4.37877290e-02],\n",
       "       [2.49105692e-01, 5.65853640e-02, 1.78861786e-02, 4.01300818e-01,\n",
       "        1.36585366e-02, 4.29268293e-02, 1.95121951e-03, 2.01626010e-02,\n",
       "        9.82113853e-02, 1.00813005e-02, 2.27642269e-03, 8.58536586e-02],\n",
       "       [3.22587520e-01, 6.28736094e-02, 6.82109296e-02, 8.32621660e-03,\n",
       "        3.43723297e-02, 3.94961573e-02, 1.49444921e-03, 1.68659259e-02,\n",
       "        3.24081987e-01, 1.34500423e-02, 9.60717327e-04, 1.07280105e-01],\n",
       "       [6.37450218e-01, 2.18519866e-02, 3.74260545e-03, 3.91162634e-02,\n",
       "        4.57563698e-02, 1.69020891e-02, 2.41458416e-04, 9.17541981e-03,\n",
       "        5.19135594e-03, 1.31594837e-02, 6.03646040e-04, 2.06809133e-01],\n",
       "       [3.14882323e-02, 3.11567783e-02, 1.52469343e-02, 3.43056023e-01,\n",
       "        2.32018568e-02, 1.37553856e-01, 1.35896588e-02, 1.18660919e-01,\n",
       "        6.82797506e-02, 7.98806772e-02, 6.96055684e-03, 1.30924761e-01],\n",
       "       [3.52014810e-01, 4.16859649e-02, 5.74339963e-02, 1.55627608e-01,\n",
       "        8.80037062e-03, 3.33487727e-02, 5.09495148e-03, 5.28022237e-02,\n",
       "        1.20426126e-01, 5.46549335e-02, 4.63177392e-04, 1.17647059e-01],\n",
       "       [6.98755741e-01, 2.11198423e-02, 4.91159153e-04, 1.16240997e-02,\n",
       "        2.07924042e-02, 6.54878840e-02, 1.09692207e-02, 7.76031464e-02,\n",
       "        4.58415179e-03, 4.74787178e-03, 1.68631300e-02, 6.69613630e-02]],\n",
       "      dtype=float32)"
      ]
     },
     "execution_count": 19,
     "metadata": {},
     "output_type": "execute_result"
    }
   ],
   "source": [
    "tags_matrix = np.zeros((len(T), len(T)), dtype='float32')\n",
    "for i, t1 in enumerate(list(T)):\n",
    "    for j, t2 in enumerate(list(T)): \n",
    "        tags_matrix[i, j] = t2_given_t1(t2, t1)[0]/t2_given_t1(t2, t1)[1]\n",
    "\n",
    "tags_matrix"
   ]
  },
  {
   "cell_type": "code",
   "execution_count": 20,
   "metadata": {},
   "outputs": [
    {
     "data": {
      "text/html": [
       "<div>\n",
       "<style scoped>\n",
       "    .dataframe tbody tr th:only-of-type {\n",
       "        vertical-align: middle;\n",
       "    }\n",
       "\n",
       "    .dataframe tbody tr th {\n",
       "        vertical-align: top;\n",
       "    }\n",
       "\n",
       "    .dataframe thead th {\n",
       "        text-align: right;\n",
       "    }\n",
       "</style>\n",
       "<table border=\"1\" class=\"dataframe\">\n",
       "  <thead>\n",
       "    <tr style=\"text-align: right;\">\n",
       "      <th></th>\n",
       "      <th>NOUN</th>\n",
       "      <th>NUM</th>\n",
       "      <th>PRON</th>\n",
       "      <th>VERB</th>\n",
       "      <th>X</th>\n",
       "      <th>.</th>\n",
       "      <th>PRT</th>\n",
       "      <th>ADP</th>\n",
       "      <th>DET</th>\n",
       "      <th>ADV</th>\n",
       "      <th>CONJ</th>\n",
       "      <th>ADJ</th>\n",
       "    </tr>\n",
       "  </thead>\n",
       "  <tbody>\n",
       "    <tr>\n",
       "      <th>NOUN</th>\n",
       "      <td>0.263810</td>\n",
       "      <td>0.009431</td>\n",
       "      <td>0.004661</td>\n",
       "      <td>0.146998</td>\n",
       "      <td>0.029094</td>\n",
       "      <td>0.239668</td>\n",
       "      <td>0.044096</td>\n",
       "      <td>0.176856</td>\n",
       "      <td>0.013436</td>\n",
       "      <td>0.016932</td>\n",
       "      <td>0.042785</td>\n",
       "      <td>0.012235</td>\n",
       "    </tr>\n",
       "    <tr>\n",
       "      <th>NUM</th>\n",
       "      <td>0.354277</td>\n",
       "      <td>0.187021</td>\n",
       "      <td>0.001475</td>\n",
       "      <td>0.018584</td>\n",
       "      <td>0.209440</td>\n",
       "      <td>0.114749</td>\n",
       "      <td>0.028024</td>\n",
       "      <td>0.034808</td>\n",
       "      <td>0.003835</td>\n",
       "      <td>0.002950</td>\n",
       "      <td>0.013274</td>\n",
       "      <td>0.031563</td>\n",
       "    </tr>\n",
       "    <tr>\n",
       "      <th>PRON</th>\n",
       "      <td>0.211887</td>\n",
       "      <td>0.007333</td>\n",
       "      <td>0.008105</td>\n",
       "      <td>0.483983</td>\n",
       "      <td>0.092242</td>\n",
       "      <td>0.040139</td>\n",
       "      <td>0.012350</td>\n",
       "      <td>0.021227</td>\n",
       "      <td>0.009649</td>\n",
       "      <td>0.034350</td>\n",
       "      <td>0.005017</td>\n",
       "      <td>0.073717</td>\n",
       "    </tr>\n",
       "    <tr>\n",
       "      <th>VERB</th>\n",
       "      <td>0.109672</td>\n",
       "      <td>0.023036</td>\n",
       "      <td>0.035678</td>\n",
       "      <td>0.170092</td>\n",
       "      <td>0.218413</td>\n",
       "      <td>0.034282</td>\n",
       "      <td>0.030947</td>\n",
       "      <td>0.091755</td>\n",
       "      <td>0.134569</td>\n",
       "      <td>0.081129</td>\n",
       "      <td>0.005429</td>\n",
       "      <td>0.064997</td>\n",
       "    </tr>\n",
       "    <tr>\n",
       "      <th>X</th>\n",
       "      <td>0.060842</td>\n",
       "      <td>0.002859</td>\n",
       "      <td>0.054964</td>\n",
       "      <td>0.203495</td>\n",
       "      <td>0.074821</td>\n",
       "      <td>0.163622</td>\n",
       "      <td>0.186021</td>\n",
       "      <td>0.145830</td>\n",
       "      <td>0.053693</td>\n",
       "      <td>0.026052</td>\n",
       "      <td>0.010326</td>\n",
       "      <td>0.017474</td>\n",
       "    </tr>\n",
       "    <tr>\n",
       "      <th>.</th>\n",
       "      <td>0.223444</td>\n",
       "      <td>0.081629</td>\n",
       "      <td>0.066042</td>\n",
       "      <td>0.088927</td>\n",
       "      <td>0.027120</td>\n",
       "      <td>0.092080</td>\n",
       "      <td>0.002343</td>\n",
       "      <td>0.089648</td>\n",
       "      <td>0.173709</td>\n",
       "      <td>0.053068</td>\n",
       "      <td>0.058113</td>\n",
       "      <td>0.043788</td>\n",
       "    </tr>\n",
       "    <tr>\n",
       "      <th>PRT</th>\n",
       "      <td>0.249106</td>\n",
       "      <td>0.056585</td>\n",
       "      <td>0.017886</td>\n",
       "      <td>0.401301</td>\n",
       "      <td>0.013659</td>\n",
       "      <td>0.042927</td>\n",
       "      <td>0.001951</td>\n",
       "      <td>0.020163</td>\n",
       "      <td>0.098211</td>\n",
       "      <td>0.010081</td>\n",
       "      <td>0.002276</td>\n",
       "      <td>0.085854</td>\n",
       "    </tr>\n",
       "    <tr>\n",
       "      <th>ADP</th>\n",
       "      <td>0.322588</td>\n",
       "      <td>0.062874</td>\n",
       "      <td>0.068211</td>\n",
       "      <td>0.008326</td>\n",
       "      <td>0.034372</td>\n",
       "      <td>0.039496</td>\n",
       "      <td>0.001494</td>\n",
       "      <td>0.016866</td>\n",
       "      <td>0.324082</td>\n",
       "      <td>0.013450</td>\n",
       "      <td>0.000961</td>\n",
       "      <td>0.107280</td>\n",
       "    </tr>\n",
       "    <tr>\n",
       "      <th>DET</th>\n",
       "      <td>0.637450</td>\n",
       "      <td>0.021852</td>\n",
       "      <td>0.003743</td>\n",
       "      <td>0.039116</td>\n",
       "      <td>0.045756</td>\n",
       "      <td>0.016902</td>\n",
       "      <td>0.000241</td>\n",
       "      <td>0.009175</td>\n",
       "      <td>0.005191</td>\n",
       "      <td>0.013159</td>\n",
       "      <td>0.000604</td>\n",
       "      <td>0.206809</td>\n",
       "    </tr>\n",
       "    <tr>\n",
       "      <th>ADV</th>\n",
       "      <td>0.031488</td>\n",
       "      <td>0.031157</td>\n",
       "      <td>0.015247</td>\n",
       "      <td>0.343056</td>\n",
       "      <td>0.023202</td>\n",
       "      <td>0.137554</td>\n",
       "      <td>0.013590</td>\n",
       "      <td>0.118661</td>\n",
       "      <td>0.068280</td>\n",
       "      <td>0.079881</td>\n",
       "      <td>0.006961</td>\n",
       "      <td>0.130925</td>\n",
       "    </tr>\n",
       "    <tr>\n",
       "      <th>CONJ</th>\n",
       "      <td>0.352015</td>\n",
       "      <td>0.041686</td>\n",
       "      <td>0.057434</td>\n",
       "      <td>0.155628</td>\n",
       "      <td>0.008800</td>\n",
       "      <td>0.033349</td>\n",
       "      <td>0.005095</td>\n",
       "      <td>0.052802</td>\n",
       "      <td>0.120426</td>\n",
       "      <td>0.054655</td>\n",
       "      <td>0.000463</td>\n",
       "      <td>0.117647</td>\n",
       "    </tr>\n",
       "    <tr>\n",
       "      <th>ADJ</th>\n",
       "      <td>0.698756</td>\n",
       "      <td>0.021120</td>\n",
       "      <td>0.000491</td>\n",
       "      <td>0.011624</td>\n",
       "      <td>0.020792</td>\n",
       "      <td>0.065488</td>\n",
       "      <td>0.010969</td>\n",
       "      <td>0.077603</td>\n",
       "      <td>0.004584</td>\n",
       "      <td>0.004748</td>\n",
       "      <td>0.016863</td>\n",
       "      <td>0.066961</td>\n",
       "    </tr>\n",
       "  </tbody>\n",
       "</table>\n",
       "</div>"
      ],
      "text/plain": [
       "          NOUN       NUM      PRON      VERB         X         .       PRT  \\\n",
       "NOUN  0.263810  0.009431  0.004661  0.146998  0.029094  0.239668  0.044096   \n",
       "NUM   0.354277  0.187021  0.001475  0.018584  0.209440  0.114749  0.028024   \n",
       "PRON  0.211887  0.007333  0.008105  0.483983  0.092242  0.040139  0.012350   \n",
       "VERB  0.109672  0.023036  0.035678  0.170092  0.218413  0.034282  0.030947   \n",
       "X     0.060842  0.002859  0.054964  0.203495  0.074821  0.163622  0.186021   \n",
       ".     0.223444  0.081629  0.066042  0.088927  0.027120  0.092080  0.002343   \n",
       "PRT   0.249106  0.056585  0.017886  0.401301  0.013659  0.042927  0.001951   \n",
       "ADP   0.322588  0.062874  0.068211  0.008326  0.034372  0.039496  0.001494   \n",
       "DET   0.637450  0.021852  0.003743  0.039116  0.045756  0.016902  0.000241   \n",
       "ADV   0.031488  0.031157  0.015247  0.343056  0.023202  0.137554  0.013590   \n",
       "CONJ  0.352015  0.041686  0.057434  0.155628  0.008800  0.033349  0.005095   \n",
       "ADJ   0.698756  0.021120  0.000491  0.011624  0.020792  0.065488  0.010969   \n",
       "\n",
       "           ADP       DET       ADV      CONJ       ADJ  \n",
       "NOUN  0.176856  0.013436  0.016932  0.042785  0.012235  \n",
       "NUM   0.034808  0.003835  0.002950  0.013274  0.031563  \n",
       "PRON  0.021227  0.009649  0.034350  0.005017  0.073717  \n",
       "VERB  0.091755  0.134569  0.081129  0.005429  0.064997  \n",
       "X     0.145830  0.053693  0.026052  0.010326  0.017474  \n",
       ".     0.089648  0.173709  0.053068  0.058113  0.043788  \n",
       "PRT   0.020163  0.098211  0.010081  0.002276  0.085854  \n",
       "ADP   0.016866  0.324082  0.013450  0.000961  0.107280  \n",
       "DET   0.009175  0.005191  0.013159  0.000604  0.206809  \n",
       "ADV   0.118661  0.068280  0.079881  0.006961  0.130925  \n",
       "CONJ  0.052802  0.120426  0.054655  0.000463  0.117647  \n",
       "ADJ   0.077603  0.004584  0.004748  0.016863  0.066961  "
      ]
     },
     "execution_count": 20,
     "metadata": {},
     "output_type": "execute_result"
    }
   ],
   "source": [
    "tags_df = pd.DataFrame(tags_matrix, columns = list(T), index=list(T))\n",
    "tags_df"
   ]
  },
  {
   "cell_type": "code",
   "execution_count": 21,
   "metadata": {},
   "outputs": [
    {
     "data": {
      "text/plain": [
       "NOUN    0.223444\n",
       "NUM     0.081629\n",
       "PRON    0.066042\n",
       "VERB    0.088927\n",
       "X       0.027120\n",
       ".       0.092080\n",
       "PRT     0.002343\n",
       "ADP     0.089648\n",
       "DET     0.173709\n",
       "ADV     0.053068\n",
       "CONJ    0.058113\n",
       "ADJ     0.043788\n",
       "Name: ., dtype: float32"
      ]
     },
     "execution_count": 21,
     "metadata": {},
     "output_type": "execute_result"
    }
   ],
   "source": [
    "tags_df.loc['.', :]"
   ]
  },
  {
   "cell_type": "code",
   "execution_count": 22,
   "metadata": {},
   "outputs": [
    {
     "data": {
      "image/png": "[encoded data removed]",
      "text/plain": [
       "<Figure size 1296x864 with 2 Axes>"
      ]
     },
     "metadata": {
      "needs_background": "light"
     },
     "output_type": "display_data"
    }
   ],
   "source": [
    "# Heatmap \n",
    "# T(i, j) means P(tag j given tag i)\n",
    "plt.figure(figsize=(18, 12))\n",
    "sns.heatmap(tags_df)\n",
    "plt.show()"
   ]
  },
  {
   "cell_type": "code",
   "execution_count": 23,
   "metadata": {},
   "outputs": [
    {
     "data": {
      "image/png": "[encoded data removed]",
      "text/plain": [
       "<Figure size 1296x864 with 2 Axes>"
      ]
     },
     "metadata": {
      "needs_background": "light"
     },
     "output_type": "display_data"
    }
   ],
   "source": [
    "# Calculating frequent tags and filter the df to get P(t2, t1) > 0.25\n",
    "tags_frequent = tags_df[tags_df>0.25]\n",
    "plt.figure(figsize=(18, 12))\n",
    "sns.heatmap(tags_frequent)\n",
    "plt.show()"
   ]
  },
  {
   "cell_type": "code",
   "execution_count": 24,
   "metadata": {},
   "outputs": [
    {
     "data": {
      "text/plain": [
       "95741"
      ]
     },
     "execution_count": 24,
     "metadata": {},
     "output_type": "execute_result"
    }
   ],
   "source": [
    "len(train_tagged_words)"
   ]
  },
  {
   "cell_type": "code",
   "execution_count": 26,
   "metadata": {},
   "outputs": [],
   "source": [
    "# Viterbi Heuristic\n",
    "def Viterbi(words, train_bag = train_tagged_words):\n",
    "    state = []\n",
    "    T = list(set([pair[1] for pair in train_bag]))\n",
    "    \n",
    "    for key, word in enumerate(words):\n",
    "        #initialise list of probability column for a given observation\n",
    "        p = [] \n",
    "        for tag in T:\n",
    "            if key == 0:\n",
    "                transition_p = tags_df.loc['.', tag]\n",
    "            else:\n",
    "                transition_p = tags_df.loc[state[-1], tag]\n",
    "                \n",
    "            # compute emission and state probabilities\n",
    "            emission_p = word_given_tag(words[key], tag)[0]/word_given_tag(words[key], tag)[1]\n",
    "            state_probability = emission_p * transition_p    \n",
    "            p.append(state_probability)\n",
    "            \n",
    "        pmax = max(p)\n",
    "        # getting state for which probability is maximum\n",
    "        state_max = T[p.index(pmax)] \n",
    "        state.append(state_max)\n",
    "    return list(zip(words, state))"
   ]
  },
  {
   "cell_type": "code",
   "execution_count": 27,
   "metadata": {},
   "outputs": [
    {
     "data": {
      "text/plain": [
       "[[('Williams', 'NOUN'),\n",
       "  ('shares', 'NOUN'),\n",
       "  (',', '.'),\n",
       "  ('which', 'DET'),\n",
       "  ('*T*-2', 'X'),\n",
       "  ('were', 'VERB'),\n",
       "  ('*-2', 'X'),\n",
       "  ('to', 'PRT'),\n",
       "  ('be', 'VERB'),\n",
       "  ('delisted', 'VERB'),\n",
       "  ('*-1', 'X'),\n",
       "  ('from', 'ADP'),\n",
       "  ('the', 'DET'),\n",
       "  ('New', 'NOUN'),\n",
       "  ('York', 'NOUN'),\n",
       "  ('Stock', 'NOUN'),\n",
       "  ('Exchange', 'NOUN'),\n",
       "  ('after', 'ADP'),\n",
       "  ('the', 'DET'),\n",
       "  ('close', 'NOUN'),\n",
       "  ('of', 'ADP'),\n",
       "  ('composite', 'ADJ'),\n",
       "  ('trading', 'NOUN'),\n",
       "  ('yesterday', 'NOUN'),\n",
       "  (',', '.'),\n",
       "  ('closed', 'VERB'),\n",
       "  ('at', 'ADP'),\n",
       "  ('$', '.'),\n",
       "  ('23.25', 'NUM'),\n",
       "  ('*U*', 'X'),\n",
       "  (',', '.'),\n",
       "  ('off', 'ADV'),\n",
       "  ('12.5', 'NUM'),\n",
       "  ('cents', 'NOUN'),\n",
       "  ('.', '.')],\n",
       " [('Terms', 'NOUN'),\n",
       "  ('were', 'VERB'),\n",
       "  (\"n't\", 'ADV'),\n",
       "  ('disclosed', 'VERB'),\n",
       "  ('*-1', 'X'),\n",
       "  ('.', '.')],\n",
       " [('The', 'DET'),\n",
       "  ('screen', 'NOUN'),\n",
       "  ('shows', 'VERB'),\n",
       "  ('two', 'NUM'),\n",
       "  ('distorted', 'ADJ'),\n",
       "  (',', '.'),\n",
       "  ('unrecognizable', 'ADJ'),\n",
       "  ('photos', 'NOUN'),\n",
       "  (',', '.'),\n",
       "  ('presumably', 'ADV'),\n",
       "  ('of', 'ADP'),\n",
       "  ('two', 'NUM'),\n",
       "  ('politicians', 'NOUN'),\n",
       "  ('.', '.')],\n",
       " [('``', '.'),\n",
       "  ('In', 'ADP'),\n",
       "  ('addition', 'NOUN'),\n",
       "  (',', '.'),\n",
       "  ('recent', 'ADJ'),\n",
       "  ('industry', 'NOUN'),\n",
       "  ('forecasts', 'NOUN'),\n",
       "  ('for', 'ADP'),\n",
       "  ('1990', 'NUM'),\n",
       "  ('indicate', 'VERB'),\n",
       "  ('a', 'DET'),\n",
       "  ('slow', 'ADJ'),\n",
       "  ('environment', 'NOUN'),\n",
       "  (',', '.'),\n",
       "  ('at', 'ADP'),\n",
       "  ('least', 'ADJ'),\n",
       "  ('until', 'ADP'),\n",
       "  ('midyear', 'NOUN'),\n",
       "  ('.', '.'),\n",
       "  (\"''\", '.')],\n",
       " [('It', 'PRON'),\n",
       "  ('*EXP*-1', 'X'),\n",
       "  ('is', 'VERB'),\n",
       "  (\"n't\", 'ADV'),\n",
       "  ('clear', 'ADJ'),\n",
       "  ('how', 'ADV'),\n",
       "  ('much', 'ADJ'),\n",
       "  ('a', 'DET'),\n",
       "  ('restructuring', 'NOUN'),\n",
       "  ('would', 'VERB'),\n",
       "  ('help', 'VERB'),\n",
       "  ('Columbia', 'NOUN'),\n",
       "  ('stockholders', 'NOUN'),\n",
       "  ('*T*-2', 'X'),\n",
       "  ('.', '.')]]"
      ]
     },
     "execution_count": 27,
     "metadata": {},
     "output_type": "execute_result"
    }
   ],
   "source": [
    "# Running on entire test dataset would take time\n",
    "# Taking few sample sentences from test to test Viterbi algorithm\n",
    "\n",
    "random.seed(1234)\n",
    "\n",
    "# choose random 5 sents\n",
    "rndom = [random.randint(1,len(test_set)) for x in range(5)]\n",
    "\n",
    "# list of sents\n",
    "test_run = [test_set[i] for i in rndom]\n",
    "\n",
    "# list of tagged words\n",
    "test_run_base = [tup for sent in test_run for tup in sent]\n",
    "\n",
    "# list of untagged words\n",
    "test_tagged_words = [tup[0] for sent in test_run for tup in sent]\n",
    "test_run"
   ]
  },
  {
   "cell_type": "code",
   "execution_count": 28,
   "metadata": {},
   "outputs": [
    {
     "name": "stdout",
     "output_type": "stream",
     "text": [
      "Time taken in seconds:  25.968316793441772\n",
      "[('Williams', 'NOUN'), ('shares', 'NOUN'), (',', '.'), ('which', 'DET'), ('*T*-2', 'X'), ('were', 'VERB'), ('*-2', 'X'), ('to', 'PRT'), ('be', 'VERB'), ('delisted', 'NOUN'), ('*-1', 'X'), ('from', 'ADP'), ('the', 'DET'), ('New', 'NOUN'), ('York', 'NOUN'), ('Stock', 'NOUN'), ('Exchange', 'NOUN'), ('after', 'ADP'), ('the', 'DET'), ('close', 'ADJ'), ('of', 'ADP'), ('composite', 'ADJ'), ('trading', 'NOUN'), ('yesterday', 'NOUN'), (',', '.'), ('closed', 'VERB'), ('at', 'ADP'), ('$', '.'), ('23.25', 'NOUN'), ('*U*', 'X'), (',', '.'), ('off', 'ADP'), ('12.5', 'NUM'), ('cents', 'NOUN'), ('.', '.'), ('Terms', 'NOUN'), ('were', 'VERB'), (\"n't\", 'ADV'), ('disclosed', 'VERB'), ('*-1', 'X'), ('.', '.'), ('The', 'DET'), ('screen', 'NOUN'), ('shows', 'VERB'), ('two', 'NUM'), ('distorted', 'NOUN'), (',', '.'), ('unrecognizable', 'ADJ'), ('photos', 'NOUN'), (',', '.'), ('presumably', 'NOUN'), ('of', 'ADP'), ('two', 'NUM'), ('politicians', 'NOUN'), ('.', '.'), ('``', '.'), ('In', 'ADP'), ('addition', 'NOUN'), (',', '.'), ('recent', 'ADJ'), ('industry', 'NOUN'), ('forecasts', 'NOUN'), ('for', 'ADP'), ('1990', 'NUM'), ('indicate', 'VERB'), ('a', 'DET'), ('slow', 'ADJ'), ('environment', 'NOUN'), (',', '.'), ('at', 'ADP'), ('least', 'ADJ'), ('until', 'ADP'), ('midyear', 'NOUN'), ('.', '.'), (\"''\", '.'), ('It', 'PRON'), ('*EXP*-1', 'X'), ('is', 'VERB'), (\"n't\", 'ADV'), ('clear', 'ADJ'), ('how', 'ADV'), ('much', 'ADV'), ('a', 'DET'), ('restructuring', 'NOUN'), ('would', 'VERB'), ('help', 'VERB'), ('Columbia', 'NOUN'), ('stockholders', 'NOUN'), ('*T*-2', 'X'), ('.', '.')]\n"
     ]
    }
   ],
   "source": [
    "# tagging the test sentences\n",
    "start = time.time()\n",
    "tagged_seq = Viterbi(test_tagged_words)\n",
    "end = time.time()\n",
    "difference = end-start\n",
    "print(\"Time taken in seconds: \", difference)\n",
    "print(tagged_seq)"
   ]
  },
  {
   "cell_type": "code",
   "execution_count": 30,
   "metadata": {},
   "outputs": [
    {
     "data": {
      "text/plain": [
       "0.9222222222222223"
      ]
     },
     "execution_count": 30,
     "metadata": {},
     "output_type": "execute_result"
    }
   ],
   "source": [
    "#Finding accuracy\n",
    "check = [i for i, j in zip(tagged_seq, test_run_base) if i == j] \n",
    "vannila_viterbi_accuracy = len(check)/len(tagged_seq)\n",
    "vannila_viterbi_accuracy"
   ]
  },
  {
   "cell_type": "code",
   "execution_count": 31,
   "metadata": {},
   "outputs": [
    {
     "data": {
      "text/plain": [
       "[[('be', 'VERB'), (('delisted', 'NOUN'), ('delisted', 'VERB'))],\n",
       " [('the', 'DET'), (('close', 'ADJ'), ('close', 'NOUN'))],\n",
       " [('$', '.'), (('23.25', 'NOUN'), ('23.25', 'NUM'))],\n",
       " [(',', '.'), (('off', 'ADP'), ('off', 'ADV'))],\n",
       " [('two', 'NUM'), (('distorted', 'NOUN'), ('distorted', 'ADJ'))],\n",
       " [(',', '.'), (('presumably', 'NOUN'), ('presumably', 'ADV'))],\n",
       " [('how', 'ADV'), (('much', 'ADV'), ('much', 'ADJ'))]]"
      ]
     },
     "execution_count": 31,
     "metadata": {},
     "output_type": "execute_result"
    }
   ],
   "source": [
    "incorrect_tagged_cases = [[test_run_base[i-1],j] for i, j in enumerate(zip(tagged_seq, test_run_base)) if j[0]!=j[1]]\n",
    "incorrect_tagged_cases"
   ]
  },
  {
   "cell_type": "code",
   "execution_count": 32,
   "metadata": {},
   "outputs": [
    {
     "name": "stdout",
     "output_type": "stream",
     "text": [
      "[('Android', 'NOUN'), ('is', 'VERB'), ('a', 'DET'), ('mobile', 'ADJ'), ('operating', 'NOUN'), ('system', 'NOUN'), ('developed', 'VERB'), ('by', 'ADP'), ('Google', 'NOUN'), ('.', '.'), ('Android', 'NOUN'), ('has', 'VERB'), ('been', 'VERB'), ('the', 'DET'), ('best-selling', 'ADJ'), ('OS', 'NOUN'), ('worldwide', 'NOUN'), ('on', 'ADP'), ('smartphones', 'NOUN'), ('since', 'ADP'), ('2011', 'NOUN'), ('and', 'CONJ'), ('on', 'ADP'), ('tablets', 'NOUN'), ('since', 'ADP'), ('2013', 'NOUN'), ('.', '.'), ('Google', 'NOUN'), ('and', 'CONJ'), ('Twitter', 'NOUN'), ('made', 'VERB'), ('a', 'DET'), ('deal', 'NOUN'), ('in', 'ADP'), ('2015', 'NOUN'), ('that', 'ADP'), ('gave', 'VERB'), ('Google', 'NOUN'), ('access', 'NOUN'), ('to', 'PRT'), ('Twitter', 'NOUN'), (\"'s\", 'PRT'), ('firehose', 'NOUN'), ('.', '.'), ('Twitter', 'NOUN'), ('is', 'VERB'), ('an', 'DET'), ('online', 'NOUN'), ('news', 'NOUN'), ('and', 'CONJ'), ('social', 'ADJ'), ('networking', 'NOUN'), ('service', 'NOUN'), ('on', 'ADP'), ('which', 'DET'), ('users', 'NOUN'), ('post', 'NOUN'), ('and', 'CONJ'), ('interact', 'NOUN'), ('with', 'ADP'), ('messages', 'NOUN'), ('known', 'VERB'), ('as', 'ADP'), ('tweets', 'NOUN'), ('.', '.'), ('Before', 'ADP'), ('entering', 'VERB'), ('politics', 'NOUN'), (',', '.'), ('Donald', 'NOUN'), ('Trump', 'NOUN'), ('was', 'VERB'), ('a', 'DET'), ('domineering', 'NOUN'), ('businessman', 'NOUN'), ('and', 'CONJ'), ('a', 'DET'), ('television', 'NOUN'), ('personality', 'NOUN'), ('.', '.'), ('The', 'DET'), ('2018', 'NOUN'), ('FIFA', 'NOUN'), ('World', 'NOUN'), ('Cup', 'NOUN'), ('is', 'VERB'), ('the', 'DET'), ('21st', 'NOUN'), ('FIFA', 'NOUN'), ('World', 'NOUN'), ('Cup', 'NOUN'), (',', '.'), ('an', 'DET'), ('international', 'ADJ'), ('football', 'NOUN'), ('tournament', 'NOUN'), ('contested', 'NOUN'), ('once', 'ADV'), ('every', 'DET'), ('four', 'NUM'), ('years', 'NOUN'), ('.', '.'), ('This', 'DET'), ('is', 'VERB'), ('the', 'DET'), ('first', 'ADJ'), ('World', 'NOUN'), ('Cup', 'NOUN'), ('to', 'PRT'), ('be', 'VERB'), ('held', 'VERB'), ('in', 'ADP'), ('Eastern', 'NOUN'), ('Europe', 'NOUN'), ('and', 'CONJ'), ('the', 'DET'), ('11th', 'ADJ'), ('time', 'NOUN'), ('that', 'ADP'), ('it', 'PRON'), ('has', 'VERB'), ('been', 'VERB'), ('held', 'VERB'), ('in', 'ADP'), ('Europe', 'NOUN'), ('.', '.'), ('Show', 'NOUN'), ('me', 'PRON'), ('the', 'DET'), ('cheapest', 'ADJ'), ('round', 'NOUN'), ('trips', 'NOUN'), ('from', 'ADP'), ('Dallas', 'NOUN'), ('to', 'PRT'), ('Atlanta', 'NOUN'), ('I', 'PRON'), ('would', 'VERB'), ('like', 'ADP'), ('to', 'PRT'), ('see', 'VERB'), ('flights', 'NOUN'), ('from', 'ADP'), ('Denver', 'NOUN'), ('to', 'PRT'), ('Philadelphia', 'NOUN'), ('.', '.'), ('Show', 'NOUN'), ('me', 'PRON'), ('the', 'DET'), ('price', 'NOUN'), ('of', 'ADP'), ('the', 'DET'), ('flights', 'NOUN'), ('leaving', 'VERB'), ('Atlanta', 'NOUN'), ('at', 'ADP'), ('about', 'ADP'), ('3', 'NUM'), ('in', 'ADP'), ('the', 'DET'), ('afternoon', 'NOUN'), ('and', 'CONJ'), ('arriving', 'NOUN'), ('in', 'ADP'), ('San', 'NOUN'), ('Francisco', 'NOUN'), ('.', '.'), ('NASA', 'NOUN'), ('invited', 'NOUN'), ('social', 'ADJ'), ('media', 'NOUN'), ('users', 'NOUN'), ('to', 'PRT'), ('experience', 'NOUN'), ('the', 'DET'), ('launch', 'NOUN'), ('of', 'ADP'), ('ICESAT-2', 'NOUN'), ('Satellite', 'NOUN'), ('.', '.')]\n",
      "50.766597509384155\n"
     ]
    }
   ],
   "source": [
    "sentence_test = open('Test_sentences.txt',mode='r').read()\n",
    "words = word_tokenize(sentence_test)\n",
    "\n",
    "start = time.time()\n",
    "tagged_seq = Viterbi(words)\n",
    "end = time.time()\n",
    "difference = end-start\n",
    "\n",
    "print(tagged_seq)\n",
    "print(difference)\n",
    "vannila_test_tagged_seq = tagged_seq"
   ]
  },
  {
   "cell_type": "markdown",
   "metadata": {},
   "source": [
    "### Solve the problem of unknown words"
   ]
  },
  {
   "cell_type": "code",
   "execution_count": 33,
   "metadata": {},
   "outputs": [],
   "source": [
    "#Rule Based Tagging with Viterbi\n",
    "pattern = [\n",
    "        (r'.*Twitter$', 'NOUN'), \n",
    "        (r'.*Android$', 'NOUN'),\n",
    "        (r'.*Google$', 'NOUN'),\n",
    "        (r'[-+]?\\d*\\.\\d+|\\d+', 'NUM'), # Number with floating values\n",
    "        (r'.*es$', 'VERB'), \n",
    "        (r'.*ing$', 'VERB'), # gerunds or continuous tense\n",
    "        (r'.*ed$', 'VERB'),  # past perfect tense\n",
    "        (r'[A-Z ]+', 'NOUN'),  # all caps eg. FIFA, NASA, etc\n",
    "        (r'.*', 'NOUN'), # default value as NOUN\n",
    "]\n",
    "\n",
    "def rule_based_tagging(word, pattern):\n",
    "    regexp_tagger = nltk.RegexpTagger(pattern)\n",
    "    kv = regexp_tagger.tag(nltk.word_tokenize(word))\n",
    "    for v in kv:\n",
    "        print(word)\n",
    "        print(v[1])\n",
    "        return v[1]"
   ]
  },
  {
   "cell_type": "code",
   "execution_count": 34,
   "metadata": {},
   "outputs": [
    {
     "name": "stdout",
     "output_type": "stream",
     "text": [
      "delisted\n",
      "VERB\n",
      "23.25\n",
      "NUM\n",
      "distorted\n",
      "VERB\n",
      "photos\n",
      "NOUN\n",
      "presumably\n",
      "NOUN\n",
      "midyear\n",
      "NOUN\n",
      "Time taken in seconds:  25.971453428268433\n",
      "[('Williams', 'NOUN'), ('shares', 'NOUN'), (',', '.'), ('which', 'DET'), ('*T*-2', 'X'), ('were', 'VERB'), ('*-2', 'X'), ('to', 'PRT'), ('be', 'VERB'), ('delisted', 'VERB'), ('*-1', 'X'), ('from', 'ADP'), ('the', 'DET'), ('New', 'NOUN'), ('York', 'NOUN'), ('Stock', 'NOUN'), ('Exchange', 'NOUN'), ('after', 'ADP'), ('the', 'DET'), ('close', 'ADJ'), ('of', 'ADP'), ('composite', 'ADJ'), ('trading', 'NOUN'), ('yesterday', 'NOUN'), (',', '.'), ('closed', 'VERB'), ('at', 'ADP'), ('$', '.'), ('23.25', 'NUM'), ('*U*', 'X'), (',', '.'), ('off', 'ADP'), ('12.5', 'NUM'), ('cents', 'NOUN'), ('.', '.'), ('Terms', 'NOUN'), ('were', 'VERB'), (\"n't\", 'ADV'), ('disclosed', 'VERB'), ('*-1', 'X'), ('.', '.'), ('The', 'DET'), ('screen', 'NOUN'), ('shows', 'VERB'), ('two', 'NUM'), ('distorted', 'VERB'), (',', '.'), ('unrecognizable', 'ADJ'), ('photos', 'NOUN'), (',', '.'), ('presumably', 'NOUN'), ('of', 'ADP'), ('two', 'NUM'), ('politicians', 'NOUN'), ('.', '.'), ('``', '.'), ('In', 'ADP'), ('addition', 'NOUN'), (',', '.'), ('recent', 'ADJ'), ('industry', 'NOUN'), ('forecasts', 'NOUN'), ('for', 'ADP'), ('1990', 'NUM'), ('indicate', 'VERB'), ('a', 'DET'), ('slow', 'ADJ'), ('environment', 'NOUN'), (',', '.'), ('at', 'ADP'), ('least', 'ADJ'), ('until', 'ADP'), ('midyear', 'NOUN'), ('.', '.'), (\"''\", '.'), ('It', 'PRON'), ('*EXP*-1', 'X'), ('is', 'VERB'), (\"n't\", 'ADV'), ('clear', 'ADJ'), ('how', 'ADV'), ('much', 'ADV'), ('a', 'DET'), ('restructuring', 'NOUN'), ('would', 'VERB'), ('help', 'VERB'), ('Columbia', 'NOUN'), ('stockholders', 'NOUN'), ('*T*-2', 'X'), ('.', '.')]\n"
     ]
    }
   ],
   "source": [
    "# Viterbi Heuristic\n",
    "def modified_Viterbi_rule_based(words, train_bag = train_tagged_words):\n",
    "    state = []\n",
    "    T = list(set([pair[1] for pair in train_bag]))\n",
    "    \n",
    "    for key, word in enumerate(words):\n",
    "        #initialise list of probability column for a given observation\n",
    "        p = [] \n",
    "        for tag in T:\n",
    "            if key == 0:\n",
    "                transition_p = tags_df.loc['.', tag]\n",
    "            else:\n",
    "                transition_p = tags_df.loc[state[-1], tag]\n",
    "                \n",
    "            # computing emission and state probabilities\n",
    "            emission_p = word_given_tag(words[key], tag)[0]/word_given_tag(words[key], tag)[1]                \n",
    "            state_probability = emission_p * transition_p    \n",
    "            p.append(state_probability)\n",
    "        pmax = max(p)\n",
    "        if pmax == 0.0:       \n",
    "            state_max = rule_based_tagging(word, pattern)\n",
    "            if state_max is None :\n",
    "                state_max = \".\"\n",
    "        else :\n",
    "            state_max = T[p.index(pmax)] \n",
    "        state.append(state_max)\n",
    "    return list(zip(words, state))\n",
    "\n",
    "random.seed(1234)\n",
    "\n",
    "# Select random 5 sents\n",
    "rndom = [random.randint(1,len(test_set)) for x in range(5)]\n",
    "\n",
    "# list of sents\n",
    "test_run = [test_set[i] for i in rndom]\n",
    "\n",
    "# list of tagged words\n",
    "test_run_base = [tup for sent in test_run for tup in sent]\n",
    "\n",
    "# list of untagged words\n",
    "test_tagged_words = [tup[0] for sent in test_run for tup in sent]\n",
    "test_run\n",
    "\n",
    "# tagging the test sentences\n",
    "start = time.time()\n",
    "tagged_seq = modified_Viterbi_rule_based(test_tagged_words)\n",
    "end = time.time()\n",
    "difference = end-start\n",
    "\n",
    "print(\"Time taken in seconds: \", difference)\n",
    "print(tagged_seq)"
   ]
  },
  {
   "cell_type": "code",
   "execution_count": 35,
   "metadata": {},
   "outputs": [
    {
     "name": "stdout",
     "output_type": "stream",
     "text": [
      "0.9444444444444444\n"
     ]
    }
   ],
   "source": [
    "# accuracy\n",
    "check = [i for i, j in zip(tagged_seq, test_run_base) if i == j] \n",
    "rulebased_modified_viterbi_accuracy = len(check)/len(tagged_seq)\n",
    "print(rulebased_modified_viterbi_accuracy)"
   ]
  },
  {
   "cell_type": "code",
   "execution_count": 36,
   "metadata": {},
   "outputs": [
    {
     "data": {
      "text/plain": [
       "[[('the', 'DET'), (('close', 'ADJ'), ('close', 'NOUN'))],\n",
       " [(',', '.'), (('off', 'ADP'), ('off', 'ADV'))],\n",
       " [('two', 'NUM'), (('distorted', 'VERB'), ('distorted', 'ADJ'))],\n",
       " [(',', '.'), (('presumably', 'NOUN'), ('presumably', 'ADV'))],\n",
       " [('how', 'ADV'), (('much', 'ADV'), ('much', 'ADJ'))]]"
      ]
     },
     "execution_count": 36,
     "metadata": {},
     "output_type": "execute_result"
    }
   ],
   "source": [
    "incorrect_tagged_cases = [[test_run_base[i-1],j] for i, j in enumerate(zip(tagged_seq, test_run_base)) if j[0]!=j[1]]\n",
    "incorrect_tagged_cases"
   ]
  },
  {
   "cell_type": "code",
   "execution_count": 37,
   "metadata": {},
   "outputs": [
    {
     "name": "stdout",
     "output_type": "stream",
     "text": [
      "Android\n",
      "NOUN\n",
      "Google\n",
      "NOUN\n",
      "Android\n",
      "NOUN\n",
      "OS\n",
      "NOUN\n",
      "worldwide\n",
      "NOUN\n",
      "smartphones\n",
      "VERB\n",
      "2011\n",
      "NUM\n",
      "2013\n",
      "NUM\n",
      "Google\n",
      "NOUN\n",
      "Twitter\n",
      "NOUN\n",
      "2015\n",
      "NUM\n",
      "Google\n",
      "NOUN\n",
      "Twitter\n",
      "NOUN\n",
      "firehose\n",
      "NOUN\n",
      "Twitter\n",
      "NOUN\n",
      "online\n",
      "NOUN\n",
      "interact\n",
      "NOUN\n",
      "messages\n",
      "VERB\n",
      "tweets\n",
      "NOUN\n",
      "domineering\n",
      "VERB\n",
      "personality\n",
      "NOUN\n",
      "2018\n",
      "NUM\n",
      "FIFA\n",
      "NOUN\n",
      "Cup\n",
      "NOUN\n",
      "21st\n",
      "NUM\n",
      "FIFA\n",
      "NOUN\n",
      "Cup\n",
      "NOUN\n",
      "tournament\n",
      "NOUN\n",
      "contested\n",
      "VERB\n",
      "Cup\n",
      "NOUN\n",
      "trips\n",
      "NOUN\n",
      "arriving\n",
      "VERB\n",
      "NASA\n",
      "NOUN\n",
      "invited\n",
      "VERB\n",
      "ICESAT-2\n",
      "NOUN\n",
      "Satellite\n",
      "NOUN\n",
      "[('Android', 'NOUN'), ('is', 'VERB'), ('a', 'DET'), ('mobile', 'ADJ'), ('operating', 'NOUN'), ('system', 'NOUN'), ('developed', 'VERB'), ('by', 'ADP'), ('Google', 'NOUN'), ('.', '.'), ('Android', 'NOUN'), ('has', 'VERB'), ('been', 'VERB'), ('the', 'DET'), ('best-selling', 'ADJ'), ('OS', 'NOUN'), ('worldwide', 'NOUN'), ('on', 'ADP'), ('smartphones', 'VERB'), ('since', 'ADP'), ('2011', 'NUM'), ('and', 'CONJ'), ('on', 'ADP'), ('tablets', 'NOUN'), ('since', 'ADP'), ('2013', 'NUM'), ('.', '.'), ('Google', 'NOUN'), ('and', 'CONJ'), ('Twitter', 'NOUN'), ('made', 'VERB'), ('a', 'DET'), ('deal', 'NOUN'), ('in', 'ADP'), ('2015', 'NUM'), ('that', 'ADP'), ('gave', 'VERB'), ('Google', 'NOUN'), ('access', 'NOUN'), ('to', 'PRT'), ('Twitter', 'NOUN'), (\"'s\", 'PRT'), ('firehose', 'NOUN'), ('.', '.'), ('Twitter', 'NOUN'), ('is', 'VERB'), ('an', 'DET'), ('online', 'NOUN'), ('news', 'NOUN'), ('and', 'CONJ'), ('social', 'ADJ'), ('networking', 'NOUN'), ('service', 'NOUN'), ('on', 'ADP'), ('which', 'DET'), ('users', 'NOUN'), ('post', 'NOUN'), ('and', 'CONJ'), ('interact', 'NOUN'), ('with', 'ADP'), ('messages', 'VERB'), ('known', 'VERB'), ('as', 'ADP'), ('tweets', 'NOUN'), ('.', '.'), ('Before', 'ADP'), ('entering', 'VERB'), ('politics', 'NOUN'), (',', '.'), ('Donald', 'NOUN'), ('Trump', 'NOUN'), ('was', 'VERB'), ('a', 'DET'), ('domineering', 'VERB'), ('businessman', 'NOUN'), ('and', 'CONJ'), ('a', 'DET'), ('television', 'NOUN'), ('personality', 'NOUN'), ('.', '.'), ('The', 'DET'), ('2018', 'NUM'), ('FIFA', 'NOUN'), ('World', 'NOUN'), ('Cup', 'NOUN'), ('is', 'VERB'), ('the', 'DET'), ('21st', 'NUM'), ('FIFA', 'NOUN'), ('World', 'NOUN'), ('Cup', 'NOUN'), (',', '.'), ('an', 'DET'), ('international', 'ADJ'), ('football', 'NOUN'), ('tournament', 'NOUN'), ('contested', 'VERB'), ('once', 'ADV'), ('every', 'DET'), ('four', 'NUM'), ('years', 'NOUN'), ('.', '.'), ('This', 'DET'), ('is', 'VERB'), ('the', 'DET'), ('first', 'ADJ'), ('World', 'NOUN'), ('Cup', 'NOUN'), ('to', 'PRT'), ('be', 'VERB'), ('held', 'VERB'), ('in', 'ADP'), ('Eastern', 'NOUN'), ('Europe', 'NOUN'), ('and', 'CONJ'), ('the', 'DET'), ('11th', 'ADJ'), ('time', 'NOUN'), ('that', 'ADP'), ('it', 'PRON'), ('has', 'VERB'), ('been', 'VERB'), ('held', 'VERB'), ('in', 'ADP'), ('Europe', 'NOUN'), ('.', '.'), ('Show', 'NOUN'), ('me', 'PRON'), ('the', 'DET'), ('cheapest', 'ADJ'), ('round', 'NOUN'), ('trips', 'NOUN'), ('from', 'ADP'), ('Dallas', 'NOUN'), ('to', 'PRT'), ('Atlanta', 'NOUN'), ('I', 'PRON'), ('would', 'VERB'), ('like', 'ADP'), ('to', 'PRT'), ('see', 'VERB'), ('flights', 'NOUN'), ('from', 'ADP'), ('Denver', 'NOUN'), ('to', 'PRT'), ('Philadelphia', 'NOUN'), ('.', '.'), ('Show', 'NOUN'), ('me', 'PRON'), ('the', 'DET'), ('price', 'NOUN'), ('of', 'ADP'), ('the', 'DET'), ('flights', 'NOUN'), ('leaving', 'VERB'), ('Atlanta', 'NOUN'), ('at', 'ADP'), ('about', 'ADP'), ('3', 'NUM'), ('in', 'ADP'), ('the', 'DET'), ('afternoon', 'NOUN'), ('and', 'CONJ'), ('arriving', 'VERB'), ('in', 'ADP'), ('San', 'NOUN'), ('Francisco', 'NOUN'), ('.', '.'), ('NASA', 'NOUN'), ('invited', 'VERB'), ('social', 'ADJ'), ('media', 'NOUN'), ('users', 'NOUN'), ('to', 'PRT'), ('experience', 'NOUN'), ('the', 'DET'), ('launch', 'NOUN'), ('of', 'ADP'), ('ICESAT-2', 'NOUN'), ('Satellite', 'NOUN'), ('.', '.')]\n",
      "51.50757360458374\n"
     ]
    }
   ],
   "source": [
    "sentence_test = open('Test_sentences.txt',mode='r').read()\n",
    "words = word_tokenize(sentence_test)\n",
    "\n",
    "start = time.time()\n",
    "tagged_seq = modified_Viterbi_rule_based(words)\n",
    "end = time.time()\n",
    "difference = end-start\n",
    "\n",
    "print(tagged_seq)\n",
    "print(difference)\n",
    "rulebased_test_tagged_seq = tagged_seq"
   ]
  },
  {
   "cell_type": "code",
   "execution_count": 38,
   "metadata": {},
   "outputs": [],
   "source": [
    "#2 : Rule Based Tagging with Viterbi\n",
    "\n",
    "def bigram_tagger(wording) :\n",
    "    t0 = DefaultTagger('NOUN')\n",
    "    t1 = UnigramTagger(train_set, backoff=t0)\n",
    "    t2 = BigramTagger(train_set, backoff=t1)\n",
    "    listvalue=t2.tag(nltk.word_tokenize(wording))\n",
    "    return listvalue[0][1]"
   ]
  },
  {
   "cell_type": "code",
   "execution_count": 39,
   "metadata": {},
   "outputs": [
    {
     "name": "stdout",
     "output_type": "stream",
     "text": [
      "delisted\n",
      "VERB\n",
      "23.25\n",
      "NUM\n",
      "distorted\n",
      "VERB\n",
      "photos\n",
      "NOUN\n",
      "presumably\n",
      "NOUN\n",
      "midyear\n",
      "NOUN\n",
      "Time taken in seconds:  25.063255548477173\n",
      "[('Williams', 'NOUN'), ('shares', 'NOUN'), (',', '.'), ('which', 'DET'), ('*T*-2', 'X'), ('were', 'VERB'), ('*-2', 'X'), ('to', 'PRT'), ('be', 'VERB'), ('delisted', 'VERB'), ('*-1', 'X'), ('from', 'ADP'), ('the', 'DET'), ('New', 'NOUN'), ('York', 'NOUN'), ('Stock', 'NOUN'), ('Exchange', 'NOUN'), ('after', 'ADP'), ('the', 'DET'), ('close', 'ADJ'), ('of', 'ADP'), ('composite', 'ADJ'), ('trading', 'NOUN'), ('yesterday', 'NOUN'), (',', '.'), ('closed', 'VERB'), ('at', 'ADP'), ('$', '.'), ('23.25', 'NUM'), ('*U*', 'X'), (',', '.'), ('off', 'ADP'), ('12.5', 'NUM'), ('cents', 'NOUN'), ('.', '.'), ('Terms', 'NOUN'), ('were', 'VERB'), (\"n't\", 'ADV'), ('disclosed', 'VERB'), ('*-1', 'X'), ('.', '.'), ('The', 'DET'), ('screen', 'NOUN'), ('shows', 'VERB'), ('two', 'NUM'), ('distorted', 'VERB'), (',', '.'), ('unrecognizable', 'ADJ'), ('photos', 'NOUN'), (',', '.'), ('presumably', 'NOUN'), ('of', 'ADP'), ('two', 'NUM'), ('politicians', 'NOUN'), ('.', '.'), ('``', '.'), ('In', 'ADP'), ('addition', 'NOUN'), (',', '.'), ('recent', 'ADJ'), ('industry', 'NOUN'), ('forecasts', 'NOUN'), ('for', 'ADP'), ('1990', 'NUM'), ('indicate', 'VERB'), ('a', 'DET'), ('slow', 'ADJ'), ('environment', 'NOUN'), (',', '.'), ('at', 'ADP'), ('least', 'ADJ'), ('until', 'ADP'), ('midyear', 'NOUN'), ('.', '.'), (\"''\", '.'), ('It', 'PRON'), ('*EXP*-1', 'X'), ('is', 'VERB'), (\"n't\", 'ADV'), ('clear', 'ADJ'), ('how', 'ADV'), ('much', 'ADV'), ('a', 'DET'), ('restructuring', 'NOUN'), ('would', 'VERB'), ('help', 'VERB'), ('Columbia', 'NOUN'), ('stockholders', 'NOUN'), ('*T*-2', 'X'), ('.', '.')]\n"
     ]
    }
   ],
   "source": [
    "# Viterbi Heuristic\n",
    "def modified_Viterbi_lexicon_based(words, train_bag = train_tagged_words):\n",
    "    state = []\n",
    "    T = list(set([pair[1] for pair in train_bag]))\n",
    "    \n",
    "    for key, word in enumerate(words):\n",
    "        #initialise list of probability column for a given observation\n",
    "        p = [] \n",
    "        for tag in T:\n",
    "            if key == 0:\n",
    "                transition_p = tags_df.loc['.', tag]\n",
    "            else:\n",
    "                transition_p = tags_df.loc[state[-1], tag]\n",
    "                \n",
    "            # compute emission and state probabilities\n",
    "            emission_p = word_given_tag(words[key], tag)[0]/word_given_tag(words[key], tag)[1]                \n",
    "            state_probability = emission_p * transition_p    \n",
    "            p.append(state_probability)\n",
    "        pmax = max(p)\n",
    "        if pmax == 0.0:       \n",
    "            state_max = rule_based_tagging(word, pattern)\n",
    "            if state_max is None :\n",
    "                state_max = \".\"\n",
    "        else :\n",
    "            state_max = T[p.index(pmax)] \n",
    "        state.append(state_max)\n",
    "    return list(zip(words, state))\n",
    "\n",
    "random.seed(1234)\n",
    "\n",
    "#Select random 5 sents\n",
    "rndom = [random.randint(1,len(test_set)) for x in range(5)]\n",
    "\n",
    "# list of sents\n",
    "test_run = [test_set[i] for i in rndom]\n",
    "\n",
    "# list of tagged words\n",
    "test_run_base = [tup for sent in test_run for tup in sent]\n",
    "\n",
    "# list of untagged words\n",
    "test_tagged_words = [tup[0] for sent in test_run for tup in sent]\n",
    "test_run\n",
    "\n",
    "# tagging the test sentences\n",
    "start = time.time()\n",
    "tagged_seq = modified_Viterbi_lexicon_based(test_tagged_words)\n",
    "end = time.time()\n",
    "difference = end-start\n",
    "\n",
    "print(\"Time taken in seconds: \", difference)\n",
    "print(tagged_seq)"
   ]
  },
  {
   "cell_type": "code",
   "execution_count": 40,
   "metadata": {},
   "outputs": [
    {
     "name": "stdout",
     "output_type": "stream",
     "text": [
      "0.9444444444444444\n"
     ]
    },
    {
     "data": {
      "text/plain": [
       "[[('the', 'DET'), (('close', 'ADJ'), ('close', 'NOUN'))],\n",
       " [(',', '.'), (('off', 'ADP'), ('off', 'ADV'))],\n",
       " [('two', 'NUM'), (('distorted', 'VERB'), ('distorted', 'ADJ'))],\n",
       " [(',', '.'), (('presumably', 'NOUN'), ('presumably', 'ADV'))],\n",
       " [('how', 'ADV'), (('much', 'ADV'), ('much', 'ADJ'))]]"
      ]
     },
     "execution_count": 40,
     "metadata": {},
     "output_type": "execute_result"
    }
   ],
   "source": [
    "# Finding accuracy\n",
    "check = [i for i, j in zip(tagged_seq, test_run_base) if i == j] \n",
    "lexicon_based_viterbi_accuracy = len(check)/len(tagged_seq)\n",
    "print(lexicon_based_viterbi_accuracy)\n",
    "\n",
    "incorrect_tagged_cases = [[test_run_base[i-1],j] for i, j in enumerate(zip(tagged_seq, test_run_base)) if j[0]!=j[1]]\n",
    "incorrect_tagged_cases"
   ]
  },
  {
   "cell_type": "code",
   "execution_count": 41,
   "metadata": {},
   "outputs": [
    {
     "name": "stdout",
     "output_type": "stream",
     "text": [
      "Android\n",
      "NOUN\n",
      "Google\n",
      "NOUN\n",
      "Android\n",
      "NOUN\n",
      "OS\n",
      "NOUN\n",
      "worldwide\n",
      "NOUN\n",
      "smartphones\n",
      "VERB\n",
      "2011\n",
      "NUM\n",
      "2013\n",
      "NUM\n",
      "Google\n",
      "NOUN\n",
      "Twitter\n",
      "NOUN\n",
      "2015\n",
      "NUM\n",
      "Google\n",
      "NOUN\n",
      "Twitter\n",
      "NOUN\n",
      "firehose\n",
      "NOUN\n",
      "Twitter\n",
      "NOUN\n",
      "online\n",
      "NOUN\n",
      "interact\n",
      "NOUN\n",
      "messages\n",
      "VERB\n",
      "tweets\n",
      "NOUN\n",
      "domineering\n",
      "VERB\n",
      "personality\n",
      "NOUN\n",
      "2018\n",
      "NUM\n",
      "FIFA\n",
      "NOUN\n",
      "Cup\n",
      "NOUN\n",
      "21st\n",
      "NUM\n",
      "FIFA\n",
      "NOUN\n",
      "Cup\n",
      "NOUN\n",
      "tournament\n",
      "NOUN\n",
      "contested\n",
      "VERB\n",
      "Cup\n",
      "NOUN\n",
      "trips\n",
      "NOUN\n",
      "arriving\n",
      "VERB\n",
      "NASA\n",
      "NOUN\n",
      "invited\n",
      "VERB\n",
      "ICESAT-2\n",
      "NOUN\n",
      "Satellite\n",
      "NOUN\n",
      "[('Android', 'NOUN'), ('is', 'VERB'), ('a', 'DET'), ('mobile', 'ADJ'), ('operating', 'NOUN'), ('system', 'NOUN'), ('developed', 'VERB'), ('by', 'ADP'), ('Google', 'NOUN'), ('.', '.'), ('Android', 'NOUN'), ('has', 'VERB'), ('been', 'VERB'), ('the', 'DET'), ('best-selling', 'ADJ'), ('OS', 'NOUN'), ('worldwide', 'NOUN'), ('on', 'ADP'), ('smartphones', 'VERB'), ('since', 'ADP'), ('2011', 'NUM'), ('and', 'CONJ'), ('on', 'ADP'), ('tablets', 'NOUN'), ('since', 'ADP'), ('2013', 'NUM'), ('.', '.'), ('Google', 'NOUN'), ('and', 'CONJ'), ('Twitter', 'NOUN'), ('made', 'VERB'), ('a', 'DET'), ('deal', 'NOUN'), ('in', 'ADP'), ('2015', 'NUM'), ('that', 'ADP'), ('gave', 'VERB'), ('Google', 'NOUN'), ('access', 'NOUN'), ('to', 'PRT'), ('Twitter', 'NOUN'), (\"'s\", 'PRT'), ('firehose', 'NOUN'), ('.', '.'), ('Twitter', 'NOUN'), ('is', 'VERB'), ('an', 'DET'), ('online', 'NOUN'), ('news', 'NOUN'), ('and', 'CONJ'), ('social', 'ADJ'), ('networking', 'NOUN'), ('service', 'NOUN'), ('on', 'ADP'), ('which', 'DET'), ('users', 'NOUN'), ('post', 'NOUN'), ('and', 'CONJ'), ('interact', 'NOUN'), ('with', 'ADP'), ('messages', 'VERB'), ('known', 'VERB'), ('as', 'ADP'), ('tweets', 'NOUN'), ('.', '.'), ('Before', 'ADP'), ('entering', 'VERB'), ('politics', 'NOUN'), (',', '.'), ('Donald', 'NOUN'), ('Trump', 'NOUN'), ('was', 'VERB'), ('a', 'DET'), ('domineering', 'VERB'), ('businessman', 'NOUN'), ('and', 'CONJ'), ('a', 'DET'), ('television', 'NOUN'), ('personality', 'NOUN'), ('.', '.'), ('The', 'DET'), ('2018', 'NUM'), ('FIFA', 'NOUN'), ('World', 'NOUN'), ('Cup', 'NOUN'), ('is', 'VERB'), ('the', 'DET'), ('21st', 'NUM'), ('FIFA', 'NOUN'), ('World', 'NOUN'), ('Cup', 'NOUN'), (',', '.'), ('an', 'DET'), ('international', 'ADJ'), ('football', 'NOUN'), ('tournament', 'NOUN'), ('contested', 'VERB'), ('once', 'ADV'), ('every', 'DET'), ('four', 'NUM'), ('years', 'NOUN'), ('.', '.'), ('This', 'DET'), ('is', 'VERB'), ('the', 'DET'), ('first', 'ADJ'), ('World', 'NOUN'), ('Cup', 'NOUN'), ('to', 'PRT'), ('be', 'VERB'), ('held', 'VERB'), ('in', 'ADP'), ('Eastern', 'NOUN'), ('Europe', 'NOUN'), ('and', 'CONJ'), ('the', 'DET'), ('11th', 'ADJ'), ('time', 'NOUN'), ('that', 'ADP'), ('it', 'PRON'), ('has', 'VERB'), ('been', 'VERB'), ('held', 'VERB'), ('in', 'ADP'), ('Europe', 'NOUN'), ('.', '.'), ('Show', 'NOUN'), ('me', 'PRON'), ('the', 'DET'), ('cheapest', 'ADJ'), ('round', 'NOUN'), ('trips', 'NOUN'), ('from', 'ADP'), ('Dallas', 'NOUN'), ('to', 'PRT'), ('Atlanta', 'NOUN'), ('I', 'PRON'), ('would', 'VERB'), ('like', 'ADP'), ('to', 'PRT'), ('see', 'VERB'), ('flights', 'NOUN'), ('from', 'ADP'), ('Denver', 'NOUN'), ('to', 'PRT'), ('Philadelphia', 'NOUN'), ('.', '.'), ('Show', 'NOUN'), ('me', 'PRON'), ('the', 'DET'), ('price', 'NOUN'), ('of', 'ADP'), ('the', 'DET'), ('flights', 'NOUN'), ('leaving', 'VERB'), ('Atlanta', 'NOUN'), ('at', 'ADP'), ('about', 'ADP'), ('3', 'NUM'), ('in', 'ADP'), ('the', 'DET'), ('afternoon', 'NOUN'), ('and', 'CONJ'), ('arriving', 'VERB'), ('in', 'ADP'), ('San', 'NOUN'), ('Francisco', 'NOUN'), ('.', '.'), ('NASA', 'NOUN'), ('invited', 'VERB'), ('social', 'ADJ'), ('media', 'NOUN'), ('users', 'NOUN'), ('to', 'PRT'), ('experience', 'NOUN'), ('the', 'DET'), ('launch', 'NOUN'), ('of', 'ADP'), ('ICESAT-2', 'NOUN'), ('Satellite', 'NOUN'), ('.', '.')]\n",
      "51.98056077957153\n"
     ]
    }
   ],
   "source": [
    "sentence_test = open('Test_sentences.txt',mode='r').read()\n",
    "words = word_tokenize(sentence_test)\n",
    "\n",
    "start = time.time()\n",
    "tagged_seq = modified_Viterbi_lexicon_based(words)\n",
    "end = time.time()\n",
    "difference = end-start\n",
    "\n",
    "print(tagged_seq)\n",
    "print(difference)\n",
    "lexicon_test_tagged_seq = tagged_seq"
   ]
  },
  {
   "cell_type": "code",
   "execution_count": 42,
   "metadata": {},
   "outputs": [
    {
     "name": "stdout",
     "output_type": "stream",
     "text": [
      "Vannila Viterbi Accuracy: 0.9222222222222223\n",
      "Lexicon Based Viterbi Accuracy: 0.9444444444444444\n",
      "Rule Based Viterbi Accuracy: 0.9444444444444444\n"
     ]
    }
   ],
   "source": [
    "print(\"Vannila Viterbi Accuracy: \"+ str(vannila_viterbi_accuracy))\n",
    "print(\"Lexicon Based Viterbi Accuracy: \"+ str(lexicon_based_viterbi_accuracy))\n",
    "print(\"Rule Based Viterbi Accuracy: \"+ str(rulebased_modified_viterbi_accuracy))"
   ]
  },
  {
   "cell_type": "markdown",
   "metadata": {},
   "source": [
    "Lexicon and rule based have higher accuracy compared to Vanilla Viterbi."
   ]
  },
  {
   "cell_type": "markdown",
   "metadata": {},
   "source": [
    "Twitter, Android and Google were correctly tagged as Noun in modified Viterbi algorithm\n",
    "NASA FIFA correctly tagged as Noun\n",
    "'arriving' and 'invited'  - are the words which are ending with 'ing' and 'ed' are tagged as Verb in Rule based Viterbi algorithm\n",
    "Words with Integers or float are correctly tagged as NUM\n",
    "Unknown words 'Google' 'Twitter'are also corrected by Lexicon."
   ]
  },
  {
   "cell_type": "code",
   "execution_count": null,
   "metadata": {},
   "outputs": [],
   "source": []
  },
  {
   "cell_type": "code",
   "execution_count": null,
   "metadata": {},
   "outputs": [],
   "source": []
  }
 ],
 "metadata": {
  "kernelspec": {
   "display_name": "Python 3",
   "language": "python",
   "name": "python3"
  },
  "language_info": {
   "codemirror_mode": {
    "name": "ipython",
    "version": 3
   },
   "file_extension": ".py",
   "mimetype": "text/x-python",
   "name": "python",
   "nbconvert_exporter": "python",
   "pygments_lexer": "ipython3",
   "version": "3.7.3"
  }
 },
 "nbformat": 4,
 "nbformat_minor": 2
}
